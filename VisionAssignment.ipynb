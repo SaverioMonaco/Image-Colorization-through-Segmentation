{
 "cells": [
  {
   "cell_type": "markdown",
   "metadata": {
    "id": "q8uhBox3Pu8E"
   },
   "source": [
    "# Assignment CNN"
   ]
  },
  {
   "cell_type": "code",
   "execution_count": 1,
   "metadata": {
    "id": "VJe83WOsPyhZ"
   },
   "outputs": [],
   "source": [
    "# Pytorch functions\n",
    "import torch\n",
    "# Neural network layers\n",
    "import torch.nn as nn\n",
    "import torch.nn.functional as F\n",
    "# Optimizer\n",
    "import torch.optim as optim\n",
    "# Handling dataset\n",
    "import torch.utils.data as data\n",
    "# Torchvision library\n",
    "import torchvision\n",
    "import torchvision.transforms as transforms\n",
    "from torch.optim import lr_scheduler\n",
    "# For results\n",
    "from sklearn.metrics import confusion_matrix\n",
    "from sklearn.metrics import classification_report\n",
    "import gc\n",
    "\n",
    "import matplotlib.pyplot as plt\n",
    "import numpy as np\n",
    "import copy, time, os, cv2"
   ]
  },
  {
   "cell_type": "code",
   "execution_count": 2,
   "metadata": {
    "id": "izIGsI6XQ5Vk"
   },
   "outputs": [],
   "source": [
    "SEED = 123\n",
    "np.random.seed(SEED)\n",
    "torch.manual_seed(SEED)\n",
    "torch.cuda.manual_seed(SEED)\n",
    "torch.backends.cudnn.deterministic = True"
   ]
  },
  {
   "cell_type": "code",
   "execution_count": 3,
   "metadata": {
    "id": "7EjrwGqcRm6q"
   },
   "outputs": [],
   "source": [
    "'''We define the transformations that will be applied when loading training and test set'''\n",
    "\n",
    "train_transforms = transforms.Compose([\n",
    "                   transforms.Resize((224,224)),\n",
    "                   transforms.RandomHorizontalFlip(),\n",
    "                   transforms.RandomPerspective(distortion_scale=0.5, p=0.3, fill=0),\n",
    "                   transforms.RandomApply(torch.nn.ModuleList([transforms.ColorJitter(),]), p=0.3),\n",
    "                   transforms.ToTensor(),\n",
    "                   transforms.Normalize([0.485, 0.456, 0.406], [0.229, 0.224, 0.225])\n",
    "])\n",
    "\n",
    "test_transforms = transforms.Compose([\n",
    "                  transforms.Resize((224,224)),\n",
    "                  transforms.Resize(256),\n",
    "                  transforms.ToTensor(),\n",
    "                  transforms.Normalize([0.485, 0.456, 0.406], [0.229, 0.224, 0.225]) \n",
    "])"
   ]
  },
  {
   "cell_type": "code",
   "execution_count": 4,
   "metadata": {
    "id": "veein2BFVDaT"
   },
   "outputs": [],
   "source": [
    "def plot_imgandlab():\n",
    "  img = train_data.data[i] # Unnormalized images\n",
    "  label = train_data[i][1]"
   ]
  },
  {
   "cell_type": "code",
   "execution_count": 5,
   "metadata": {
    "colab": {
     "base_uri": "https://localhost:8080/",
     "height": 118,
     "referenced_widgets": [
      "8e384a37eb6244b5bfbccc61c62e709f",
      "e853e465e19e4b1d8e8387ab66082020",
      "91648f160729487eb12c769ea481751e",
      "b2049e66e4214b31ab6bd552a777c2e8",
      "fb257cb5acbc4764844b82d79c95650a",
      "1112160a855c4a379a0fcf9692804566",
      "7d3ae05c007f4b908ef585072804ddbb",
      "efa4dff355724a16893f9d9e3d53475b"
     ]
    },
    "id": "xjN3HaI0TDDa",
    "outputId": "836d4140-885b-444d-fb21-c387a0dd1bc1"
   },
   "outputs": [
    {
     "name": "stdout",
     "output_type": "stream",
     "text": [
      "Downloading https://www.cs.toronto.edu/~kriz/cifar-10-python.tar.gz to ./data/cifar-10-python.tar.gz\n"
     ]
    },
    {
     "data": {
      "application/vnd.jupyter.widget-view+json": {
       "model_id": "8e384a37eb6244b5bfbccc61c62e709f",
       "version_major": 2,
       "version_minor": 0
      },
      "text/plain": [
       "HBox(children=(FloatProgress(value=0.0, max=170498071.0), HTML(value='')))"
      ]
     },
     "metadata": {
      "tags": []
     },
     "output_type": "display_data"
    },
    {
     "name": "stdout",
     "output_type": "stream",
     "text": [
      "\n",
      "Extracting ./data/cifar-10-python.tar.gz to ./data\n",
      "Files already downloaded and verified\n"
     ]
    }
   ],
   "source": [
    "ROOT = './data'\n",
    "\n",
    "train_data = torchvision.datasets.CIFAR10(root=ROOT,\n",
    "                                          train=True,\n",
    "                                          download=True,\n",
    "                                          transform=train_transforms)\n",
    "\n",
    "test_data = torchvision.datasets.CIFAR10(root=ROOT,\n",
    "                                         train=False,\n",
    "                                         download=True,\n",
    "                                         transform=test_transforms)"
   ]
  },
  {
   "cell_type": "code",
   "execution_count": 6,
   "metadata": {
    "id": "ZlkWUTpR99de"
   },
   "outputs": [],
   "source": [
    "class CNN(nn.Module):\n",
    "  def __init__(self, layers):\n",
    "    super().__init__()\n",
    "    self.model = torchvision.models.resnet34(pretrained=True)\n",
    "    self.model.fc = nn.Sequential(*layers)\n",
    "\n",
    "    \n",
    "  def forward(self, x):\n",
    "    batch_size = x.shape[0]\n",
    "    # Flatten x\n",
    "    x = x.view(batch_size, -1)\n",
    "    y = self.linear_layers(x)\n",
    "    return y\n",
    "  \n",
    "  def count_parameters(self, info=False):\n",
    "    nparams = sum(p.numel() for p in self.parameters() if p.requires_grad)\n",
    "    if info:\n",
    "      print(\"The model has\",nparams,\"trainable parameters.\")\n",
    "    return nparams"
   ]
  },
  {
   "cell_type": "code",
   "execution_count": 7,
   "metadata": {
    "id": "YN_eBP_vA4zK"
   },
   "outputs": [],
   "source": [
    "def create_validation_set(train_data, train_percentage, test_transforms):\n",
    "  num_train_examples = int(len(train_data) * train_percentage)\n",
    "  num_valid_examples = len(train_data) - num_train_examples\n",
    "\n",
    "  train_data, valid_data = data.random_split(train_data, [num_train_examples, num_valid_examples])\n",
    "\n",
    "  print(f\"Number training examples: {len(train_data)}\")\n",
    "  print(f\"Number validation examples: {len(valid_data)}\")\n",
    "\n",
    "  valid_data = copy.deepcopy(valid_data)\n",
    "  valid_data.dataset.transform = test_transforms\n",
    "\n",
    "  return valid_data"
   ]
  },
  {
   "cell_type": "code",
   "execution_count": 8,
   "metadata": {
    "colab": {
     "base_uri": "https://localhost:8080/"
    },
    "id": "Y_t7-4J1AvpB",
    "outputId": "f9e7f5f9-b228-46a0-c904-30f35e951020"
   },
   "outputs": [
    {
     "name": "stdout",
     "output_type": "stream",
     "text": [
      "Number training examples: 40000\n",
      "Number validation examples: 10000\n"
     ]
    }
   ],
   "source": [
    "valid_data=create_validation_set(train_data,0.8,test_transforms)"
   ]
  },
  {
   "cell_type": "code",
   "execution_count": 9,
   "metadata": {
    "colab": {
     "base_uri": "https://localhost:8080/",
     "height": 101,
     "referenced_widgets": [
      "db84d2f6e63f4f2cbb230240011f2a76",
      "7e1b2002e24848949d15eb9e38649dd3",
      "33edb4102a324e878629bdf32d09e401",
      "a05b58ffe38a4b76ba980890cd310635",
      "0666bf2e63a44c679221f405cfecbb52",
      "dfe93ea6ddcd4baca17ab3053d0ee242",
      "e5244c985503409aab46ee4ec920e55c",
      "f5e8467ea55842a38533097f0db1b5b3"
     ]
    },
    "id": "zm6iHZXL-D23",
    "outputId": "b9ca6779-55fe-496f-da14-00be2c237901"
   },
   "outputs": [
    {
     "name": "stderr",
     "output_type": "stream",
     "text": [
      "Downloading: \"https://download.pytorch.org/models/resnet34-333f7ec4.pth\" to /root/.cache/torch/hub/checkpoints/resnet34-333f7ec4.pth\n"
     ]
    },
    {
     "data": {
      "application/vnd.jupyter.widget-view+json": {
       "model_id": "db84d2f6e63f4f2cbb230240011f2a76",
       "version_major": 2,
       "version_minor": 0
      },
      "text/plain": [
       "HBox(children=(FloatProgress(value=0.0, max=87306240.0), HTML(value='')))"
      ]
     },
     "metadata": {
      "tags": []
     },
     "output_type": "display_data"
    },
    {
     "name": "stdout",
     "output_type": "stream",
     "text": [
      "\n",
      "The model has 21705862 trainable parameters.\n"
     ]
    }
   ],
   "source": [
    "INPUT_DIM = 224*224*3\n",
    "OUTPUT_DIM = 10 # 10 classes\n",
    "\n",
    "layers = [nn.Linear(in_features=512,out_features=512,bias=True),\n",
    "          nn.ReLU(),\n",
    "          nn.BatchNorm1d(512,eps=1e-05,momentum=0.1,affine=True,track_running_stats=True),\n",
    "          nn.Dropout(p=0.3),\n",
    "          nn.Linear(in_features=512,out_features=300,bias=True),\n",
    "          nn.ReLU(),\n",
    "          nn.BatchNorm1d(300,eps=1e-05,momentum=0.1,affine=True,track_running_stats=True),\n",
    "          nn.Dropout(p=0.2),\n",
    "          nn.Linear(in_features=300,out_features=OUTPUT_DIM)\n",
    "]\n",
    "#layers = [nn.Linear(in_features=512,out_features=512,bias=True),nn.Dropout(p=0.2),nn.Linear(in_features=512,out_features=OUTPUT_DIM)]\n",
    "\n",
    "myCNN = CNN(layers)\n",
    "myCNN.count_parameters(info=True)\n",
    "\n",
    "# Create iterators\n",
    "BATCH_SIZE = 256\n",
    "\n",
    "train_iterator = torch.utils.data.DataLoader(train_data, \n",
    "                                             shuffle=True, \n",
    "                                             batch_size=BATCH_SIZE)\n",
    "\n",
    "valid_iterator = torch.utils.data.DataLoader(valid_data, \n",
    "                                             batch_size=BATCH_SIZE)\n",
    "\n",
    "test_iterator = torch.utils.data.DataLoader(test_data, \n",
    "                                            batch_size=BATCH_SIZE)"
   ]
  },
  {
   "cell_type": "code",
   "execution_count": 10,
   "metadata": {
    "id": "zYgRx5ZM-VYJ"
   },
   "outputs": [],
   "source": [
    "# Loss\n",
    "criterion = nn.CrossEntropyLoss() # Softmax + CrossEntropy\n",
    "\n",
    "# Put model&criterion on GPU\n",
    "device = torch.device('cuda' if torch.cuda.is_available() else 'cpu')\n",
    "criterion = criterion.to(device)\n",
    "\n",
    "# Optim\n",
    "optimizer=optim.Adam(myCNN.parameters(),lr=.5e-4, weight_decay=.8e-5)"
   ]
  },
  {
   "cell_type": "code",
   "execution_count": 11,
   "metadata": {
    "id": "PUma9S5iAGw-"
   },
   "outputs": [],
   "source": [
    "def train(model, iterator, optimizer, criterion, device):\n",
    "  epoch_loss = 0\n",
    "  epoch_acc = 0\n",
    "\n",
    "  # Train mode\n",
    "  model.train()\n",
    "\n",
    "  for (x,y) in iterator:\n",
    "    x = x.to(device)\n",
    "    y = y.to(device)\n",
    "    # Set gradients to zero\n",
    "    optimizer.zero_grad()\n",
    "    \n",
    "    # Make Predictions\n",
    "    y_pred = model(x)\n",
    "\n",
    "    # Compute loss\n",
    "    loss = criterion(y_pred, y)\n",
    "    \n",
    "    # Compute accuracy\n",
    "    acc = calculate_accuracy(y_pred, y)\n",
    "\n",
    "    # Backprop\n",
    "    loss.backward()\n",
    "\n",
    "    # Apply optimizer\n",
    "    optimizer.step()\n",
    "\n",
    "    # Extract data from loss and accuracy\n",
    "    epoch_loss += loss.item()\n",
    "    epoch_acc += acc.item()\n",
    "\n",
    "  return epoch_loss/len(iterator), epoch_acc/len(iterator)\n",
    "\n",
    "def evaluate(model, iterator, criterion, device):\n",
    "  epoch_loss = 0\n",
    "  epoch_acc = 0\n",
    "\n",
    "  # Evaluation mode\n",
    "  model.eval()\n",
    "\n",
    "  # Do not compute gradients\n",
    "  with torch.no_grad():\n",
    "\n",
    "    for (x,y) in iterator:\n",
    "\n",
    "      x = x.to(device)\n",
    "      y = y.to(device)\n",
    "      \n",
    "      # Make Predictions\n",
    "      y_pred = model(x)\n",
    "\n",
    "      # Compute loss\n",
    "      loss = criterion(y_pred, y)\n",
    "      \n",
    "      # Compute accuracy\n",
    "      acc = calculate_accuracy(y_pred, y)\n",
    "\n",
    "      # Extract data from loss and accuracy\n",
    "      epoch_loss += loss.item()\n",
    "      epoch_acc += acc.item()\n",
    "\n",
    "  return epoch_loss/len(iterator), epoch_acc/len(iterator)\n",
    "\n",
    "def calculate_accuracy(y_pred, y):\n",
    "  '''\n",
    "  Compute accuracy from ground-truth and predicted labels.\n",
    "  \n",
    "  Input\n",
    "  ------\n",
    "  y_pred: torch.Tensor [BATCH_SIZE, N_LABELS]\n",
    "  y: torch.Tensor [BATCH_SIZE]\n",
    "\n",
    "  Output\n",
    "  ------\n",
    "  acc: float\n",
    "    Accuracy\n",
    "  '''\n",
    "  y_prob = F.softmax(y_pred, dim = -1)\n",
    "  y_pred = y_pred.argmax(dim=1, keepdim = True)\n",
    "  correct = y_pred.eq(y.view_as(y_pred)).sum()\n",
    "  acc = correct.float()/y.shape[0]\n",
    "  return acc\n",
    "\n",
    "def model_training(n_epochs, model, train_iterator, valid_iterator, optimizer, criterion, device, model_name='best_model.pt'):\n",
    "\n",
    "  # Initialize validation loss\n",
    "  best_valid_loss = float('inf')\n",
    "\n",
    "  # Save output losses, accs\n",
    "  train_losses = []\n",
    "  train_accs = []\n",
    "  valid_losses = []\n",
    "  valid_accs = []\n",
    "\n",
    "  # Loop over epochs\n",
    "  for epoch in range(n_epochs):\n",
    "    start_time = time.time()\n",
    "    # Train\n",
    "    train_loss, train_acc = train(model, train_iterator, optimizer, criterion, device)\n",
    "    # Validation\n",
    "    valid_loss, valid_acc = evaluate(model, valid_iterator, criterion, device)\n",
    "    # Save best model\n",
    "    if valid_loss < best_valid_loss:\n",
    "      best_valid_loss = valid_loss\n",
    "      # Save model\n",
    "      torch.save(model.state_dict(), model_name)\n",
    "    end_time = time.time()\n",
    "    \n",
    "    print(f\"\\nEpoch: {epoch+1}/{n_epochs} -- Epoch Time: {end_time-start_time:.2f} s\")\n",
    "    print(\"---------------------------------\")\n",
    "    print(f\"Train -- Loss: {train_loss:.3f}, Acc: {train_acc * 100:.2f}%\")\n",
    "    print(f\"Val -- Loss: {valid_loss:.3f}, Acc: {valid_acc * 100:.2f}%\")\n",
    "\n",
    "    # Save\n",
    "    train_losses.append(train_loss)\n",
    "    train_accs.append(train_acc)\n",
    "    valid_losses.append(valid_loss)\n",
    "    valid_accs.append(valid_acc)\n",
    "\n",
    "  return train_losses, train_accs, valid_losses, valid_accs"
   ]
  },
  {
   "cell_type": "code",
   "execution_count": 12,
   "metadata": {
    "colab": {
     "base_uri": "https://localhost:8080/"
    },
    "id": "1WI9x2ygVB9r",
    "outputId": "35f7c442-b860-4d72-f8e7-6a0dffabf656"
   },
   "outputs": [
    {
     "data": {
      "text/plain": [
       "True"
      ]
     },
     "execution_count": 12,
     "metadata": {
      "tags": []
     },
     "output_type": "execute_result"
    }
   ],
   "source": [
    "torch.cuda.is_available()"
   ]
  },
  {
   "cell_type": "code",
   "execution_count": null,
   "metadata": {
    "colab": {
     "base_uri": "https://localhost:8080/"
    },
    "id": "lm7yfgAxAZNv",
    "outputId": "d04e9dd9-15e7-4002-f193-a8bb4d7d08ef"
   },
   "outputs": [
    {
     "name": "stdout",
     "output_type": "stream",
     "text": [
      "\n",
      "Epoch: 1/12 -- Epoch Time: 1186.11 s\n",
      "---------------------------------\n",
      "Train -- Loss: 0.581, Acc: 82.81%\n",
      "Val -- Loss: 0.202, Acc: 94.88%\n",
      "\n",
      "Epoch: 2/12 -- Epoch Time: 1190.16 s\n",
      "---------------------------------\n",
      "Train -- Loss: 0.167, Acc: 94.97%\n",
      "Val -- Loss: 0.122, Acc: 96.75%\n",
      "\n",
      "Epoch: 3/12 -- Epoch Time: 1191.32 s\n",
      "---------------------------------\n",
      "Train -- Loss: 0.111, Acc: 96.65%\n",
      "Val -- Loss: 0.088, Acc: 97.58%\n",
      "\n",
      "Epoch: 4/12 -- Epoch Time: 1192.39 s\n",
      "---------------------------------\n",
      "Train -- Loss: 0.081, Acc: 97.50%\n",
      "Val -- Loss: 0.065, Acc: 98.03%\n",
      "\n",
      "Epoch: 5/12 -- Epoch Time: 1192.16 s\n",
      "---------------------------------\n",
      "Train -- Loss: 0.065, Acc: 98.01%\n",
      "Val -- Loss: 0.048, Acc: 98.80%\n",
      "\n",
      "Epoch: 6/12 -- Epoch Time: 1192.51 s\n",
      "---------------------------------\n",
      "Train -- Loss: 0.051, Acc: 98.48%\n",
      "Val -- Loss: 0.066, Acc: 97.93%\n",
      "\n",
      "Epoch: 7/12 -- Epoch Time: 1191.59 s\n",
      "---------------------------------\n",
      "Train -- Loss: 0.043, Acc: 98.71%\n",
      "Val -- Loss: 0.035, Acc: 99.02%\n",
      "\n",
      "Epoch: 8/12 -- Epoch Time: 1192.77 s\n",
      "---------------------------------\n",
      "Train -- Loss: 0.038, Acc: 98.82%\n",
      "Val -- Loss: 0.039, Acc: 98.67%\n",
      "\n",
      "Epoch: 9/12 -- Epoch Time: 1191.16 s\n",
      "---------------------------------\n",
      "Train -- Loss: 0.033, Acc: 98.94%\n",
      "Val -- Loss: 0.032, Acc: 99.03%\n",
      "\n",
      "Epoch: 10/12 -- Epoch Time: 1195.89 s\n",
      "---------------------------------\n",
      "Train -- Loss: 0.029, Acc: 99.16%\n",
      "Val -- Loss: 0.042, Acc: 98.69%\n",
      "\n",
      "Epoch: 11/12 -- Epoch Time: 1195.45 s\n",
      "---------------------------------\n",
      "Train -- Loss: 0.029, Acc: 99.12%\n",
      "Val -- Loss: 0.036, Acc: 98.78%\n"
     ]
    }
   ],
   "source": [
    "N_EPOCHS = 12\n",
    "train_losses, train_accs, valid_losses, valid_accs = model_training(N_EPOCHS, \n",
    "                                                                    myCNN.model.to(device), \n",
    "                                                                    train_iterator, \n",
    "                                                                    valid_iterator, \n",
    "                                                                    optimizer, \n",
    "                                                                    criterion, \n",
    "                                                                    device,\n",
    "                                                                    'mlp.pt')"
   ]
  },
  {
   "cell_type": "code",
   "execution_count": null,
   "metadata": {
    "id": "mL42k6APoIX4"
   },
   "outputs": [],
   "source": [
    "def plot_results(n_epochs, train_losses, train_accs, valid_losses, valid_accs):\n",
    "  N_EPOCHS = n_epochs\n",
    "  # Plot results\n",
    "  plt.figure(figsize=(20, 6))\n",
    "  _ = plt.subplot(1,2,1)\n",
    "  plt.plot(np.arange(N_EPOCHS)+1, train_losses, linewidth=3)\n",
    "  plt.plot(np.arange(N_EPOCHS)+1, valid_losses, linewidth=3)\n",
    "  _ = plt.legend(['Train', 'Validation'])\n",
    "  plt.grid('on'), plt.xlabel('Epoch'), plt.ylabel('Loss')\n",
    "\n",
    "  _ = plt.subplot(1,2,2)\n",
    "  plt.plot(np.arange(N_EPOCHS)+1, train_accs, linewidth=3)\n",
    "  plt.plot(np.arange(N_EPOCHS)+1, valid_accs, linewidth=3)\n",
    "  _ = plt.legend(['Train', 'Validation'])\n",
    "  plt.grid('on'), plt.xlabel('Epoch'), plt.ylabel('Accuracy')"
   ]
  },
  {
   "cell_type": "code",
   "execution_count": null,
   "metadata": {
    "id": "HVPcpHQ2FOFj"
   },
   "outputs": [],
   "source": [
    "plot_results(N_EPOCHS,train_losses,train_accs,valid_losses,valid_accs)"
   ]
  },
  {
   "cell_type": "code",
   "execution_count": null,
   "metadata": {
    "id": "3rR_hFhx8-4d"
   },
   "outputs": [],
   "source": [
    "def model_testing(model, test_iterator, criterion, device, model_name='mlp.pt'):\n",
    "  # Test model\n",
    "  model.load_state_dict(torch.load(model_name))\n",
    "  test_loss, test_acc = evaluate(model, test_iterator, criterion, device)\n",
    "  print(f\"Test -- Loss: {test_loss:.3f}, Acc: {test_acc * 100:.2f} %\")"
   ]
  },
  {
   "cell_type": "code",
   "execution_count": null,
   "metadata": {
    "id": "WQuiV0qygI6-"
   },
   "outputs": [],
   "source": [
    "model_testing(myCNN.model.to(device),test_iterator,criterion,device)"
   ]
  },
  {
   "cell_type": "code",
   "execution_count": null,
   "metadata": {
    "id": "6YfXMKUQ9tXY"
   },
   "outputs": [],
   "source": [
    "def predict(model, iterator, device):\n",
    "  \n",
    "  # Evaluation mode\n",
    "  model.eval()\n",
    "  \n",
    "  labels = []\n",
    "  pred = []\n",
    "\n",
    "  with torch.no_grad():\n",
    "    for (x, y) in iterator:\n",
    "      x = x.to(device)\n",
    "      y_pred = model(x)\n",
    "\n",
    "      # Get label with highest score\n",
    "      y_prob = F.softmax(y_pred, dim = -1)\n",
    "      top_pred = y_prob.argmax(1, keepdim=True)\n",
    "\n",
    "      labels.append(y.cpu())\n",
    "      pred.append(top_pred.cpu())\n",
    "\n",
    "  labels = torch.cat(labels, dim=0)\n",
    "  pred = torch.cat(pred, dim=0)\n",
    "  \n",
    "  return labels, pred\n",
    "\n",
    "def print_report(model, test_iterator, device):\n",
    "  labels, pred = predict(model, test_iterator, device)\n",
    "  print(confusion_matrix(labels, pred))\n",
    "  print(\"\\n\")\n",
    "  print(classification_report(labels, pred))"
   ]
  },
  {
   "cell_type": "code",
   "execution_count": null,
   "metadata": {
    "id": "meOmnL74gMe2"
   },
   "outputs": [],
   "source": [
    "print_report(myCNN.model.to(device),test_iterator,device)"
   ]
  },
  {
   "cell_type": "code",
   "execution_count": null,
   "metadata": {
    "id": "Yn9QNND-gVfu"
   },
   "outputs": [],
   "source": []
  }
 ],
 "metadata": {
  "accelerator": "GPU",
  "colab": {
   "collapsed_sections": [],
   "name": "VisionAssignment.ipynb",
   "provenance": []
  },
  "kernelspec": {
   "display_name": "Python 3",
   "language": "python",
   "name": "python3"
  },
  "language_info": {
   "codemirror_mode": {
    "name": "ipython",
    "version": 3
   },
   "file_extension": ".py",
   "mimetype": "text/x-python",
   "name": "python",
   "nbconvert_exporter": "python",
   "pygments_lexer": "ipython3",
   "version": "3.8.8"
  },
  "widgets": {
   "application/vnd.jupyter.widget-state+json": {
    "0666bf2e63a44c679221f405cfecbb52": {
     "model_module": "@jupyter-widgets/controls",
     "model_name": "ProgressStyleModel",
     "state": {
      "_model_module": "@jupyter-widgets/controls",
      "_model_module_version": "1.5.0",
      "_model_name": "ProgressStyleModel",
      "_view_count": null,
      "_view_module": "@jupyter-widgets/base",
      "_view_module_version": "1.2.0",
      "_view_name": "StyleView",
      "bar_color": null,
      "description_width": "initial"
     }
    },
    "1112160a855c4a379a0fcf9692804566": {
     "model_module": "@jupyter-widgets/base",
     "model_name": "LayoutModel",
     "state": {
      "_model_module": "@jupyter-widgets/base",
      "_model_module_version": "1.2.0",
      "_model_name": "LayoutModel",
      "_view_count": null,
      "_view_module": "@jupyter-widgets/base",
      "_view_module_version": "1.2.0",
      "_view_name": "LayoutView",
      "align_content": null,
      "align_items": null,
      "align_self": null,
      "border": null,
      "bottom": null,
      "display": null,
      "flex": null,
      "flex_flow": null,
      "grid_area": null,
      "grid_auto_columns": null,
      "grid_auto_flow": null,
      "grid_auto_rows": null,
      "grid_column": null,
      "grid_gap": null,
      "grid_row": null,
      "grid_template_areas": null,
      "grid_template_columns": null,
      "grid_template_rows": null,
      "height": null,
      "justify_content": null,
      "justify_items": null,
      "left": null,
      "margin": null,
      "max_height": null,
      "max_width": null,
      "min_height": null,
      "min_width": null,
      "object_fit": null,
      "object_position": null,
      "order": null,
      "overflow": null,
      "overflow_x": null,
      "overflow_y": null,
      "padding": null,
      "right": null,
      "top": null,
      "visibility": null,
      "width": null
     }
    },
    "33edb4102a324e878629bdf32d09e401": {
     "model_module": "@jupyter-widgets/controls",
     "model_name": "FloatProgressModel",
     "state": {
      "_dom_classes": [],
      "_model_module": "@jupyter-widgets/controls",
      "_model_module_version": "1.5.0",
      "_model_name": "FloatProgressModel",
      "_view_count": null,
      "_view_module": "@jupyter-widgets/controls",
      "_view_module_version": "1.5.0",
      "_view_name": "ProgressView",
      "bar_style": "success",
      "description": "100%",
      "description_tooltip": null,
      "layout": "IPY_MODEL_dfe93ea6ddcd4baca17ab3053d0ee242",
      "max": 87306240,
      "min": 0,
      "orientation": "horizontal",
      "style": "IPY_MODEL_0666bf2e63a44c679221f405cfecbb52",
      "value": 87306240
     }
    },
    "7d3ae05c007f4b908ef585072804ddbb": {
     "model_module": "@jupyter-widgets/controls",
     "model_name": "DescriptionStyleModel",
     "state": {
      "_model_module": "@jupyter-widgets/controls",
      "_model_module_version": "1.5.0",
      "_model_name": "DescriptionStyleModel",
      "_view_count": null,
      "_view_module": "@jupyter-widgets/base",
      "_view_module_version": "1.2.0",
      "_view_name": "StyleView",
      "description_width": ""
     }
    },
    "7e1b2002e24848949d15eb9e38649dd3": {
     "model_module": "@jupyter-widgets/base",
     "model_name": "LayoutModel",
     "state": {
      "_model_module": "@jupyter-widgets/base",
      "_model_module_version": "1.2.0",
      "_model_name": "LayoutModel",
      "_view_count": null,
      "_view_module": "@jupyter-widgets/base",
      "_view_module_version": "1.2.0",
      "_view_name": "LayoutView",
      "align_content": null,
      "align_items": null,
      "align_self": null,
      "border": null,
      "bottom": null,
      "display": null,
      "flex": null,
      "flex_flow": null,
      "grid_area": null,
      "grid_auto_columns": null,
      "grid_auto_flow": null,
      "grid_auto_rows": null,
      "grid_column": null,
      "grid_gap": null,
      "grid_row": null,
      "grid_template_areas": null,
      "grid_template_columns": null,
      "grid_template_rows": null,
      "height": null,
      "justify_content": null,
      "justify_items": null,
      "left": null,
      "margin": null,
      "max_height": null,
      "max_width": null,
      "min_height": null,
      "min_width": null,
      "object_fit": null,
      "object_position": null,
      "order": null,
      "overflow": null,
      "overflow_x": null,
      "overflow_y": null,
      "padding": null,
      "right": null,
      "top": null,
      "visibility": null,
      "width": null
     }
    },
    "8e384a37eb6244b5bfbccc61c62e709f": {
     "model_module": "@jupyter-widgets/controls",
     "model_name": "HBoxModel",
     "state": {
      "_dom_classes": [],
      "_model_module": "@jupyter-widgets/controls",
      "_model_module_version": "1.5.0",
      "_model_name": "HBoxModel",
      "_view_count": null,
      "_view_module": "@jupyter-widgets/controls",
      "_view_module_version": "1.5.0",
      "_view_name": "HBoxView",
      "box_style": "",
      "children": [
       "IPY_MODEL_91648f160729487eb12c769ea481751e",
       "IPY_MODEL_b2049e66e4214b31ab6bd552a777c2e8"
      ],
      "layout": "IPY_MODEL_e853e465e19e4b1d8e8387ab66082020"
     }
    },
    "91648f160729487eb12c769ea481751e": {
     "model_module": "@jupyter-widgets/controls",
     "model_name": "FloatProgressModel",
     "state": {
      "_dom_classes": [],
      "_model_module": "@jupyter-widgets/controls",
      "_model_module_version": "1.5.0",
      "_model_name": "FloatProgressModel",
      "_view_count": null,
      "_view_module": "@jupyter-widgets/controls",
      "_view_module_version": "1.5.0",
      "_view_name": "ProgressView",
      "bar_style": "success",
      "description": "",
      "description_tooltip": null,
      "layout": "IPY_MODEL_1112160a855c4a379a0fcf9692804566",
      "max": 170498071,
      "min": 0,
      "orientation": "horizontal",
      "style": "IPY_MODEL_fb257cb5acbc4764844b82d79c95650a",
      "value": 170498071
     }
    },
    "a05b58ffe38a4b76ba980890cd310635": {
     "model_module": "@jupyter-widgets/controls",
     "model_name": "HTMLModel",
     "state": {
      "_dom_classes": [],
      "_model_module": "@jupyter-widgets/controls",
      "_model_module_version": "1.5.0",
      "_model_name": "HTMLModel",
      "_view_count": null,
      "_view_module": "@jupyter-widgets/controls",
      "_view_module_version": "1.5.0",
      "_view_name": "HTMLView",
      "description": "",
      "description_tooltip": null,
      "layout": "IPY_MODEL_f5e8467ea55842a38533097f0db1b5b3",
      "placeholder": "​",
      "style": "IPY_MODEL_e5244c985503409aab46ee4ec920e55c",
      "value": " 83.3M/83.3M [00:02&lt;00:00, 36.3MB/s]"
     }
    },
    "b2049e66e4214b31ab6bd552a777c2e8": {
     "model_module": "@jupyter-widgets/controls",
     "model_name": "HTMLModel",
     "state": {
      "_dom_classes": [],
      "_model_module": "@jupyter-widgets/controls",
      "_model_module_version": "1.5.0",
      "_model_name": "HTMLModel",
      "_view_count": null,
      "_view_module": "@jupyter-widgets/controls",
      "_view_module_version": "1.5.0",
      "_view_name": "HTMLView",
      "description": "",
      "description_tooltip": null,
      "layout": "IPY_MODEL_efa4dff355724a16893f9d9e3d53475b",
      "placeholder": "​",
      "style": "IPY_MODEL_7d3ae05c007f4b908ef585072804ddbb",
      "value": " 170499072/? [20:08&lt;00:00, 141080.22it/s]"
     }
    },
    "db84d2f6e63f4f2cbb230240011f2a76": {
     "model_module": "@jupyter-widgets/controls",
     "model_name": "HBoxModel",
     "state": {
      "_dom_classes": [],
      "_model_module": "@jupyter-widgets/controls",
      "_model_module_version": "1.5.0",
      "_model_name": "HBoxModel",
      "_view_count": null,
      "_view_module": "@jupyter-widgets/controls",
      "_view_module_version": "1.5.0",
      "_view_name": "HBoxView",
      "box_style": "",
      "children": [
       "IPY_MODEL_33edb4102a324e878629bdf32d09e401",
       "IPY_MODEL_a05b58ffe38a4b76ba980890cd310635"
      ],
      "layout": "IPY_MODEL_7e1b2002e24848949d15eb9e38649dd3"
     }
    },
    "dfe93ea6ddcd4baca17ab3053d0ee242": {
     "model_module": "@jupyter-widgets/base",
     "model_name": "LayoutModel",
     "state": {
      "_model_module": "@jupyter-widgets/base",
      "_model_module_version": "1.2.0",
      "_model_name": "LayoutModel",
      "_view_count": null,
      "_view_module": "@jupyter-widgets/base",
      "_view_module_version": "1.2.0",
      "_view_name": "LayoutView",
      "align_content": null,
      "align_items": null,
      "align_self": null,
      "border": null,
      "bottom": null,
      "display": null,
      "flex": null,
      "flex_flow": null,
      "grid_area": null,
      "grid_auto_columns": null,
      "grid_auto_flow": null,
      "grid_auto_rows": null,
      "grid_column": null,
      "grid_gap": null,
      "grid_row": null,
      "grid_template_areas": null,
      "grid_template_columns": null,
      "grid_template_rows": null,
      "height": null,
      "justify_content": null,
      "justify_items": null,
      "left": null,
      "margin": null,
      "max_height": null,
      "max_width": null,
      "min_height": null,
      "min_width": null,
      "object_fit": null,
      "object_position": null,
      "order": null,
      "overflow": null,
      "overflow_x": null,
      "overflow_y": null,
      "padding": null,
      "right": null,
      "top": null,
      "visibility": null,
      "width": null
     }
    },
    "e5244c985503409aab46ee4ec920e55c": {
     "model_module": "@jupyter-widgets/controls",
     "model_name": "DescriptionStyleModel",
     "state": {
      "_model_module": "@jupyter-widgets/controls",
      "_model_module_version": "1.5.0",
      "_model_name": "DescriptionStyleModel",
      "_view_count": null,
      "_view_module": "@jupyter-widgets/base",
      "_view_module_version": "1.2.0",
      "_view_name": "StyleView",
      "description_width": ""
     }
    },
    "e853e465e19e4b1d8e8387ab66082020": {
     "model_module": "@jupyter-widgets/base",
     "model_name": "LayoutModel",
     "state": {
      "_model_module": "@jupyter-widgets/base",
      "_model_module_version": "1.2.0",
      "_model_name": "LayoutModel",
      "_view_count": null,
      "_view_module": "@jupyter-widgets/base",
      "_view_module_version": "1.2.0",
      "_view_name": "LayoutView",
      "align_content": null,
      "align_items": null,
      "align_self": null,
      "border": null,
      "bottom": null,
      "display": null,
      "flex": null,
      "flex_flow": null,
      "grid_area": null,
      "grid_auto_columns": null,
      "grid_auto_flow": null,
      "grid_auto_rows": null,
      "grid_column": null,
      "grid_gap": null,
      "grid_row": null,
      "grid_template_areas": null,
      "grid_template_columns": null,
      "grid_template_rows": null,
      "height": null,
      "justify_content": null,
      "justify_items": null,
      "left": null,
      "margin": null,
      "max_height": null,
      "max_width": null,
      "min_height": null,
      "min_width": null,
      "object_fit": null,
      "object_position": null,
      "order": null,
      "overflow": null,
      "overflow_x": null,
      "overflow_y": null,
      "padding": null,
      "right": null,
      "top": null,
      "visibility": null,
      "width": null
     }
    },
    "efa4dff355724a16893f9d9e3d53475b": {
     "model_module": "@jupyter-widgets/base",
     "model_name": "LayoutModel",
     "state": {
      "_model_module": "@jupyter-widgets/base",
      "_model_module_version": "1.2.0",
      "_model_name": "LayoutModel",
      "_view_count": null,
      "_view_module": "@jupyter-widgets/base",
      "_view_module_version": "1.2.0",
      "_view_name": "LayoutView",
      "align_content": null,
      "align_items": null,
      "align_self": null,
      "border": null,
      "bottom": null,
      "display": null,
      "flex": null,
      "flex_flow": null,
      "grid_area": null,
      "grid_auto_columns": null,
      "grid_auto_flow": null,
      "grid_auto_rows": null,
      "grid_column": null,
      "grid_gap": null,
      "grid_row": null,
      "grid_template_areas": null,
      "grid_template_columns": null,
      "grid_template_rows": null,
      "height": null,
      "justify_content": null,
      "justify_items": null,
      "left": null,
      "margin": null,
      "max_height": null,
      "max_width": null,
      "min_height": null,
      "min_width": null,
      "object_fit": null,
      "object_position": null,
      "order": null,
      "overflow": null,
      "overflow_x": null,
      "overflow_y": null,
      "padding": null,
      "right": null,
      "top": null,
      "visibility": null,
      "width": null
     }
    },
    "f5e8467ea55842a38533097f0db1b5b3": {
     "model_module": "@jupyter-widgets/base",
     "model_name": "LayoutModel",
     "state": {
      "_model_module": "@jupyter-widgets/base",
      "_model_module_version": "1.2.0",
      "_model_name": "LayoutModel",
      "_view_count": null,
      "_view_module": "@jupyter-widgets/base",
      "_view_module_version": "1.2.0",
      "_view_name": "LayoutView",
      "align_content": null,
      "align_items": null,
      "align_self": null,
      "border": null,
      "bottom": null,
      "display": null,
      "flex": null,
      "flex_flow": null,
      "grid_area": null,
      "grid_auto_columns": null,
      "grid_auto_flow": null,
      "grid_auto_rows": null,
      "grid_column": null,
      "grid_gap": null,
      "grid_row": null,
      "grid_template_areas": null,
      "grid_template_columns": null,
      "grid_template_rows": null,
      "height": null,
      "justify_content": null,
      "justify_items": null,
      "left": null,
      "margin": null,
      "max_height": null,
      "max_width": null,
      "min_height": null,
      "min_width": null,
      "object_fit": null,
      "object_position": null,
      "order": null,
      "overflow": null,
      "overflow_x": null,
      "overflow_y": null,
      "padding": null,
      "right": null,
      "top": null,
      "visibility": null,
      "width": null
     }
    },
    "fb257cb5acbc4764844b82d79c95650a": {
     "model_module": "@jupyter-widgets/controls",
     "model_name": "ProgressStyleModel",
     "state": {
      "_model_module": "@jupyter-widgets/controls",
      "_model_module_version": "1.5.0",
      "_model_name": "ProgressStyleModel",
      "_view_count": null,
      "_view_module": "@jupyter-widgets/base",
      "_view_module_version": "1.2.0",
      "_view_name": "StyleView",
      "bar_color": null,
      "description_width": "initial"
     }
    }
   }
  }
 },
 "nbformat": 4,
 "nbformat_minor": 4
}
