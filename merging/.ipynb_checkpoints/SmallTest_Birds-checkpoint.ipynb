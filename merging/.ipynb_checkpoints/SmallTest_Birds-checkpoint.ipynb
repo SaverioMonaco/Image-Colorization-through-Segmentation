{
  "nbformat": 4,
  "nbformat_minor": 0,
  "metadata": {
    "colab": {
      "name": "SmallTest_Birds.ipynb",
      "provenance": [],
      "collapsed_sections": []
    },
    "kernelspec": {
      "display_name": "Python 3",
      "name": "python3"
    },
    "language_info": {
      "name": "python"
    },
    "accelerator": "GPU",
    "widgets": {
      "application/vnd.jupyter.widget-state+json": {
        "b6612602f6b246ebb353b842dfb1f867": {
          "model_module": "@jupyter-widgets/controls",
          "model_name": "HBoxModel",
          "state": {
            "_view_name": "HBoxView",
            "_dom_classes": [],
            "_model_name": "HBoxModel",
            "_view_module": "@jupyter-widgets/controls",
            "_model_module_version": "1.5.0",
            "_view_count": null,
            "_view_module_version": "1.5.0",
            "box_style": "",
            "layout": "IPY_MODEL_04e4a3a4ce0b4171b3ed5f080360672b",
            "_model_module": "@jupyter-widgets/controls",
            "children": [
              "IPY_MODEL_9a7ac9d8654e4437bfa560cf2f38dc58",
              "IPY_MODEL_8b9a3641b1eb41768da9b4873b9565ec"
            ]
          }
        },
        "04e4a3a4ce0b4171b3ed5f080360672b": {
          "model_module": "@jupyter-widgets/base",
          "model_name": "LayoutModel",
          "state": {
            "_view_name": "LayoutView",
            "grid_template_rows": null,
            "right": null,
            "justify_content": null,
            "_view_module": "@jupyter-widgets/base",
            "overflow": null,
            "_model_module_version": "1.2.0",
            "_view_count": null,
            "flex_flow": null,
            "width": null,
            "min_width": null,
            "border": null,
            "align_items": null,
            "bottom": null,
            "_model_module": "@jupyter-widgets/base",
            "top": null,
            "grid_column": null,
            "overflow_y": null,
            "overflow_x": null,
            "grid_auto_flow": null,
            "grid_area": null,
            "grid_template_columns": null,
            "flex": null,
            "_model_name": "LayoutModel",
            "justify_items": null,
            "grid_row": null,
            "max_height": null,
            "align_content": null,
            "visibility": null,
            "align_self": null,
            "height": null,
            "min_height": null,
            "padding": null,
            "grid_auto_rows": null,
            "grid_gap": null,
            "max_width": null,
            "order": null,
            "_view_module_version": "1.2.0",
            "grid_template_areas": null,
            "object_position": null,
            "object_fit": null,
            "grid_auto_columns": null,
            "margin": null,
            "display": null,
            "left": null
          }
        },
        "9a7ac9d8654e4437bfa560cf2f38dc58": {
          "model_module": "@jupyter-widgets/controls",
          "model_name": "FloatProgressModel",
          "state": {
            "_view_name": "ProgressView",
            "style": "IPY_MODEL_c64861a841064ba3b966c1f4af5e25e0",
            "_dom_classes": [],
            "description": "100%",
            "_model_name": "FloatProgressModel",
            "bar_style": "success",
            "max": 46830571,
            "_view_module": "@jupyter-widgets/controls",
            "_model_module_version": "1.5.0",
            "value": 46830571,
            "_view_count": null,
            "_view_module_version": "1.5.0",
            "orientation": "horizontal",
            "min": 0,
            "description_tooltip": null,
            "_model_module": "@jupyter-widgets/controls",
            "layout": "IPY_MODEL_9b9a6c343700482890edb82a39e2ede5"
          }
        },
        "8b9a3641b1eb41768da9b4873b9565ec": {
          "model_module": "@jupyter-widgets/controls",
          "model_name": "HTMLModel",
          "state": {
            "_view_name": "HTMLView",
            "style": "IPY_MODEL_9aeef91ee5c443ec81f1ff98152c671f",
            "_dom_classes": [],
            "description": "",
            "_model_name": "HTMLModel",
            "placeholder": "​",
            "_view_module": "@jupyter-widgets/controls",
            "_model_module_version": "1.5.0",
            "value": " 44.7M/44.7M [00:00&lt;00:00, 103MB/s]",
            "_view_count": null,
            "_view_module_version": "1.5.0",
            "description_tooltip": null,
            "_model_module": "@jupyter-widgets/controls",
            "layout": "IPY_MODEL_25d211fa121b40d9a36fdf23ab6be7d9"
          }
        },
        "c64861a841064ba3b966c1f4af5e25e0": {
          "model_module": "@jupyter-widgets/controls",
          "model_name": "ProgressStyleModel",
          "state": {
            "_view_name": "StyleView",
            "_model_name": "ProgressStyleModel",
            "description_width": "initial",
            "_view_module": "@jupyter-widgets/base",
            "_model_module_version": "1.5.0",
            "_view_count": null,
            "_view_module_version": "1.2.0",
            "bar_color": null,
            "_model_module": "@jupyter-widgets/controls"
          }
        },
        "9b9a6c343700482890edb82a39e2ede5": {
          "model_module": "@jupyter-widgets/base",
          "model_name": "LayoutModel",
          "state": {
            "_view_name": "LayoutView",
            "grid_template_rows": null,
            "right": null,
            "justify_content": null,
            "_view_module": "@jupyter-widgets/base",
            "overflow": null,
            "_model_module_version": "1.2.0",
            "_view_count": null,
            "flex_flow": null,
            "width": null,
            "min_width": null,
            "border": null,
            "align_items": null,
            "bottom": null,
            "_model_module": "@jupyter-widgets/base",
            "top": null,
            "grid_column": null,
            "overflow_y": null,
            "overflow_x": null,
            "grid_auto_flow": null,
            "grid_area": null,
            "grid_template_columns": null,
            "flex": null,
            "_model_name": "LayoutModel",
            "justify_items": null,
            "grid_row": null,
            "max_height": null,
            "align_content": null,
            "visibility": null,
            "align_self": null,
            "height": null,
            "min_height": null,
            "padding": null,
            "grid_auto_rows": null,
            "grid_gap": null,
            "max_width": null,
            "order": null,
            "_view_module_version": "1.2.0",
            "grid_template_areas": null,
            "object_position": null,
            "object_fit": null,
            "grid_auto_columns": null,
            "margin": null,
            "display": null,
            "left": null
          }
        },
        "9aeef91ee5c443ec81f1ff98152c671f": {
          "model_module": "@jupyter-widgets/controls",
          "model_name": "DescriptionStyleModel",
          "state": {
            "_view_name": "StyleView",
            "_model_name": "DescriptionStyleModel",
            "description_width": "",
            "_view_module": "@jupyter-widgets/base",
            "_model_module_version": "1.5.0",
            "_view_count": null,
            "_view_module_version": "1.2.0",
            "_model_module": "@jupyter-widgets/controls"
          }
        },
        "25d211fa121b40d9a36fdf23ab6be7d9": {
          "model_module": "@jupyter-widgets/base",
          "model_name": "LayoutModel",
          "state": {
            "_view_name": "LayoutView",
            "grid_template_rows": null,
            "right": null,
            "justify_content": null,
            "_view_module": "@jupyter-widgets/base",
            "overflow": null,
            "_model_module_version": "1.2.0",
            "_view_count": null,
            "flex_flow": null,
            "width": null,
            "min_width": null,
            "border": null,
            "align_items": null,
            "bottom": null,
            "_model_module": "@jupyter-widgets/base",
            "top": null,
            "grid_column": null,
            "overflow_y": null,
            "overflow_x": null,
            "grid_auto_flow": null,
            "grid_area": null,
            "grid_template_columns": null,
            "flex": null,
            "_model_name": "LayoutModel",
            "justify_items": null,
            "grid_row": null,
            "max_height": null,
            "align_content": null,
            "visibility": null,
            "align_self": null,
            "height": null,
            "min_height": null,
            "padding": null,
            "grid_auto_rows": null,
            "grid_gap": null,
            "max_width": null,
            "order": null,
            "_view_module_version": "1.2.0",
            "grid_template_areas": null,
            "object_position": null,
            "object_fit": null,
            "grid_auto_columns": null,
            "margin": null,
            "display": null,
            "left": null
          }
        }
      }
    }
  },
  "cells": [
    {
      "cell_type": "markdown",
      "metadata": {
        "id": "CwyPT434GU5Q"
      },
      "source": [
        "# Image Recoloring: Small test"
      ]
    },
    {
      "cell_type": "code",
      "metadata": {
        "id": "zAOukcgcCaZp",
        "colab": {
          "base_uri": "https://localhost:8080/"
        },
        "outputId": "a2fc9209-9438-4aea-e476-f271c0d58766"
      },
      "source": [
        "!ls"
      ],
      "execution_count": 1,
      "outputs": [
        {
          "output_type": "stream",
          "text": [
            "sample_data\n"
          ],
          "name": "stdout"
        }
      ]
    },
    {
      "cell_type": "code",
      "metadata": {
        "id": "aLniP64wvQ5w",
        "colab": {
          "base_uri": "https://localhost:8080/"
        },
        "outputId": "cf97bd2b-9473-4f92-9cda-cba2444ba947"
      },
      "source": [
        "# Download and extract\n",
        "\n",
        "!gdown https://drive.google.com/u/0/uc?id=1hbzc_P1FuxMkcabkgn9ZKinBwW683j45&export=download\n",
        "\n",
        "import tarfile\n",
        "tar = tarfile.open(\"CUB_200_2011.tgz\")\n",
        "tar.extractall()\n",
        "tar.close()\n",
        "\n",
        "!mkdir birds\n",
        "\n",
        "# For this small version, I selected a small dataset containing only yellow birds\n",
        "!mv CUB_200_2011/images/020.Yellow_breasted_Chat/*.jpg birds\n",
        "!mv CUB_200_2011/images/043.Yellow_bellied_Flycatcher/*.jpg birds\n",
        "!mv CUB_200_2011/images/047.American_Goldfinch/*.jpg birds\n",
        "!mv CUB_200_2011/images/055.Evening_Grosbeak/*.jpg birds\n",
        "!mv CUB_200_2011/images/077.Tropical_Kingbird/*.jpg birds\n",
        "!mv CUB_200_2011/images/088.Western_Meadowlark/*.jpg birds\n",
        "!mv CUB_200_2011/images/095.Baltimore_Oriole/*.jpg birds\n",
        "!mv CUB_200_2011/images/096.Hooded_Oriole/*.jpg birds\n",
        "!mv CUB_200_2011/images/174.Palm_Warbler/*.jpg birds\n",
        "!mv CUB_200_2011/images/182.Yellow_Warbler/*.jpg birds\n",
        "\n",
        "\n",
        "# Move every photo to the dataset folder, if you want a bigger one\n",
        "!mv CUB_200_2011/images/*/*.jpg birds"
      ],
      "execution_count": 2,
      "outputs": [
        {
          "output_type": "stream",
          "text": [
            "Downloading...\n",
            "From: https://drive.google.com/u/0/uc?id=1hbzc_P1FuxMkcabkgn9ZKinBwW683j45\n",
            "To: /content/CUB_200_2011.tgz\n",
            "1.15GB [00:12, 94.6MB/s]\n"
          ],
          "name": "stdout"
        }
      ]
    },
    {
      "cell_type": "code",
      "metadata": {
        "id": "kGhLC8CwKQgj",
        "colab": {
          "base_uri": "https://localhost:8080/",
          "height": 35
        },
        "outputId": "32c2c43e-1841-40ad-def7-b1f2b53514a3"
      },
      "source": [
        "'''from google.colab import drive\n",
        "drive.mount('/content/gdrive')\n",
        "\n",
        "!mkdir birds\n",
        "!cp /content/gdrive/MyDrive/smallbirds/*/*.jpg birds'''"
      ],
      "execution_count": 3,
      "outputs": [
        {
          "output_type": "execute_result",
          "data": {
            "application/vnd.google.colaboratory.intrinsic+json": {
              "type": "string"
            },
            "text/plain": [
              "\"from google.colab import drive\\ndrive.mount('/content/gdrive')\\n\\n!mkdir birds\\n!cp /content/gdrive/MyDrive/smallbirds/*/*.jpg birds\""
            ]
          },
          "metadata": {
            "tags": []
          },
          "execution_count": 3
        }
      ]
    },
    {
      "cell_type": "code",
      "metadata": {
        "id": "VavQXKN2lcaq"
      },
      "source": [
        "# Move data into training and validation directories\n",
        "import os\n",
        "\n",
        "# Make the folders\n",
        "os.makedirs('images/train/class/', exist_ok=True)\n",
        "os.makedirs('images/val/class/', exist_ok=True)\n",
        "\n",
        "for i, file in enumerate(os.listdir('birds')):\n",
        "  if i < int(len(os.listdir('birds'))*0.2): # first 20% will be val\n",
        "    os.rename('birds/' + file, 'images/val/class/' + file)\n",
        "  else: # others will be in train\n",
        "    os.rename('birds/' + file, 'images/train/class/' + file)"
      ],
      "execution_count": 4,
      "outputs": []
    },
    {
      "cell_type": "code",
      "metadata": {
        "id": "bnR7rg33lesu",
        "colab": {
          "base_uri": "https://localhost:8080/",
          "height": 421
        },
        "outputId": "054820b0-66c5-48ef-a88e-de4a89f86b94"
      },
      "source": [
        "# Make sure the images are there\n",
        "from IPython.display import Image, display\n",
        "# Display first photo of train dataset\n",
        "display(Image(filename='images/train/class/' + os.listdir('images/train/class/')[0]))\n"
      ],
      "execution_count": 5,
      "outputs": [
        {
          "output_type": "display_data",
          "data": {
            "image/jpeg": "[encoded data removed]",
            "text/plain": [
              "<IPython.core.display.Image object>"
            ]
          },
          "metadata": {
            "tags": []
          }
        }
      ]
    },
    {
      "cell_type": "code",
      "metadata": {
        "id": "nYYgvGYuliUn"
      },
      "source": [
        "# For plotting\n",
        "import numpy as np\n",
        "import matplotlib.pyplot as plt\n",
        "%matplotlib inline\n",
        "\n",
        "# For conversion\n",
        "from skimage.color import lab2rgb, rgb2lab, rgb2gray\n",
        "from skimage import io\n",
        "\n",
        "# For everything\n",
        "import torch\n",
        "import torch.nn as nn\n",
        "import torch.nn.functional as F\n",
        "\n",
        "# For our model\n",
        "import torchvision.models as models\n",
        "from torchvision import datasets, transforms\n",
        "\n",
        "# For utilities\n",
        "import os, shutil, time"
      ],
      "execution_count": 6,
      "outputs": []
    },
    {
      "cell_type": "code",
      "metadata": {
        "id": "NxgD8Wh0lnW4",
        "colab": {
          "base_uri": "https://localhost:8080/"
        },
        "outputId": "d1b9e04b-2785-4006-dba6-5ef0c96900ab"
      },
      "source": [
        "# Check if GPU is available\n",
        "use_gpu = torch.cuda.is_available()\n",
        "if use_gpu:\n",
        "  print('You are using GPU')"
      ],
      "execution_count": 7,
      "outputs": [
        {
          "output_type": "stream",
          "text": [
            "You are using GPU\n"
          ],
          "name": "stdout"
        }
      ]
    },
    {
      "cell_type": "code",
      "metadata": {
        "id": "D3lMrRUylqN4"
      },
      "source": [
        "# NET CLASS\n",
        "class ColorizationNet(nn.Module):\n",
        "  def __init__(self, input_size=128):\n",
        "    super(ColorizationNet, self).__init__()\n",
        "    MIDLEVEL_FEATURE_SIZE = 128\n",
        "\n",
        "    ## First half: ResNet\n",
        "    resnet = models.resnet18(pretrained=True) #num_classes=365,\n",
        "    # Change first conv layer to accept single-channel (grayscale) input\n",
        "    resnet.conv1.weight = nn.Parameter(resnet.conv1.weight.sum(dim=1).unsqueeze(1)) \n",
        "    # Extract midlevel features from ResNet-gray\n",
        "    self.midlevel_resnet = nn.Sequential(*list(resnet.children())[0:6])\n",
        "\n",
        "    ## Second half: Upsampling\n",
        "    self.upsample = nn.Sequential(     \n",
        "      nn.Conv2d(MIDLEVEL_FEATURE_SIZE, 128, kernel_size=3, stride=1, padding=1),\n",
        "      nn.BatchNorm2d(128),\n",
        "      nn.ReLU(),\n",
        "      nn.Upsample(scale_factor=2),\n",
        "      nn.Conv2d(128, 64, kernel_size=3, stride=1, padding=1),\n",
        "      nn.BatchNorm2d(64),\n",
        "      nn.ReLU(),\n",
        "      nn.Conv2d(64, 64, kernel_size=3, stride=1, padding=1),\n",
        "      nn.BatchNorm2d(64),\n",
        "      nn.ReLU(),\n",
        "      nn.Upsample(scale_factor=2),\n",
        "      nn.Conv2d(64, 32, kernel_size=3, stride=1, padding=1),\n",
        "      nn.BatchNorm2d(32),\n",
        "      nn.ReLU(),\n",
        "      nn.Conv2d(32, 2, kernel_size=3, stride=1, padding=1),\n",
        "      nn.Upsample(scale_factor=2)\n",
        "    )\n",
        "\n",
        "  def forward(self, input):\n",
        "    # Pass input through ResNet-gray to extract features\n",
        "    midlevel_features = self.midlevel_resnet(input)\n",
        "\n",
        "    # Upsample to get colors\n",
        "    output = self.upsample(midlevel_features)\n",
        "    return output"
      ],
      "execution_count": 8,
      "outputs": []
    },
    {
      "cell_type": "code",
      "metadata": {
        "id": "y4UHtdsTlsyA",
        "colab": {
          "base_uri": "https://localhost:8080/",
          "height": 84,
          "referenced_widgets": [
            "b6612602f6b246ebb353b842dfb1f867",
            "04e4a3a4ce0b4171b3ed5f080360672b",
            "9a7ac9d8654e4437bfa560cf2f38dc58",
            "8b9a3641b1eb41768da9b4873b9565ec",
            "c64861a841064ba3b966c1f4af5e25e0",
            "9b9a6c343700482890edb82a39e2ede5",
            "9aeef91ee5c443ec81f1ff98152c671f",
            "25d211fa121b40d9a36fdf23ab6be7d9"
          ]
        },
        "outputId": "ebf4ad4a-9575-4921-aa26-4b19a13f7e30"
      },
      "source": [
        "model = ColorizationNet()\n",
        "# You are downloading the first half pretrained ResNet"
      ],
      "execution_count": 9,
      "outputs": [
        {
          "output_type": "stream",
          "text": [
            "Downloading: \"https://download.pytorch.org/models/resnet18-f37072fd.pth\" to /root/.cache/torch/hub/checkpoints/resnet18-f37072fd.pth\n"
          ],
          "name": "stderr"
        },
        {
          "output_type": "display_data",
          "data": {
            "application/vnd.jupyter.widget-view+json": {
              "model_id": "b6612602f6b246ebb353b842dfb1f867",
              "version_minor": 0,
              "version_major": 2
            },
            "text/plain": [
              "HBox(children=(FloatProgress(value=0.0, max=46830571.0), HTML(value='')))"
            ]
          },
          "metadata": {
            "tags": []
          }
        },
        {
          "output_type": "stream",
          "text": [
            "\n"
          ],
          "name": "stdout"
        }
      ]
    },
    {
      "cell_type": "code",
      "metadata": {
        "id": "ufkt90tPlwGB"
      },
      "source": [
        ""
      ],
      "execution_count": 9,
      "outputs": []
    },
    {
      "cell_type": "code",
      "metadata": {
        "id": "wbdkoDsxl1Zh"
      },
      "source": [
        "class GrayscaleImageFolder(datasets.ImageFolder):\n",
        "  '''Custom images folder, which converts images to grayscale before loading'''\n",
        "  def __getitem__(self, index):\n",
        "    path, target = self.imgs[index]\n",
        "    img = self.loader(path)\n",
        "    if self.transform is not None:\n",
        "      img_original = self.transform(img)\n",
        "      img_original = np.asarray(img_original)\n",
        "      img_lab = rgb2lab(img_original)\n",
        "      img_lab = (img_lab + 128) / 255\n",
        "      img_ab = img_lab[:, :, 1:3]\n",
        "      img_ab = torch.from_numpy(img_ab.transpose((2, 0, 1))).float()\n",
        "      img_original = rgb2gray(img_original)\n",
        "      img_original = torch.from_numpy(img_original).unsqueeze(0).float()\n",
        "    if self.target_transform is not None:\n",
        "      target = self.target_transform(target)\n",
        "    return img_original, img_ab, target\n",
        "\n",
        "# Next we define transforms for our training and validation data.\n",
        "# saturation (float or tuple of python:float (min, max)) – How much to jitter saturation. saturation_factor is chosen uniformly \n",
        "# from [max(0, 1 - saturation), 1 + saturation] or the given [min, max]. Should be non negative numbers.\n",
        "# Training\n",
        "train_transforms = transforms.Compose([transforms.RandomResizedCrop(224), transforms.RandomHorizontalFlip(),transforms.ColorJitter(brightness=[1.5,1.5])] )\n",
        "train_imagefolder = GrayscaleImageFolder('images/train' , train_transforms)\n",
        "train_loader = torch.utils.data.DataLoader(train_imagefolder, batch_size=64, shuffle=True)\n",
        "\n",
        "# Validation \n",
        "val_transforms = transforms.Compose([transforms.Resize(256), transforms.CenterCrop(224), transforms.ColorJitter(brightness=[1.5,1.5])])\n",
        "val_imagefolder = GrayscaleImageFolder('images/val' , val_transforms)\n",
        "val_loader = torch.utils.data.DataLoader(val_imagefolder, batch_size=64, shuffle=False)"
      ],
      "execution_count": 10,
      "outputs": []
    },
    {
      "cell_type": "code",
      "metadata": {
        "id": "dKsfs4UGl5Pk"
      },
      "source": [
        "class AverageMeter(object):\n",
        "  '''A handy class from the PyTorch ImageNet tutorial''' \n",
        "  def __init__(self):\n",
        "    self.reset()\n",
        "  def reset(self):\n",
        "    self.val, self.avg, self.sum, self.count = 0, 0, 0, 0\n",
        "  def update(self, val, n=1):\n",
        "    self.val = val\n",
        "    self.sum += val * n\n",
        "    self.count += n\n",
        "    self.avg = self.sum / self.count\n",
        "\n",
        "def to_rgb(grayscale_input, ab_input, save_path=None, save_name=None):\n",
        "  '''Show/save rgb image from grayscale and ab channels\n",
        "     Input save_path in the form {'grayscale': '/path/', 'colorized': '/path/'}'''\n",
        "  plt.clf() # clear matplotlib \n",
        "  color_image = torch.cat((grayscale_input, ab_input), 0).numpy() # combine channels\n",
        "  color_image = color_image.transpose((1, 2, 0))  # rescale for matplotlib\n",
        "  color_image[:, :, 0:1] = color_image[:, :, 0:1] * 100\n",
        "  color_image[:, :, 1:3] = color_image[:, :, 1:3] * 255 - 128   \n",
        "  color_image = lab2rgb(color_image.astype(np.float64))\n",
        "  grayscale_input = grayscale_input.squeeze().numpy()\n",
        "  if save_path is not None and save_name is not None: \n",
        "    plt.imsave(arr=grayscale_input, fname='{}{}'.format(save_path['grayscale'], save_name), cmap='gray')\n",
        "    plt.imsave(arr=color_image, fname='{}{}'.format(save_path['colorized'], save_name))"
      ],
      "execution_count": 11,
      "outputs": []
    },
    {
      "cell_type": "code",
      "metadata": {
        "id": "eB9ZzEMVl69L"
      },
      "source": [
        "def validate(val_loader, model, criterion, save_images, epoch):\n",
        "  model.eval()\n",
        "\n",
        "  # Prepare value counters and timers\n",
        "  batch_time, data_time, losses = AverageMeter(), AverageMeter(), AverageMeter()\n",
        "\n",
        "  end = time.time()\n",
        "  already_saved_images = False\n",
        "  for i, (input_gray, input_ab, target) in enumerate(val_loader):\n",
        "    data_time.update(time.time() - end)\n",
        "\n",
        "    # Use GPU\n",
        "    if use_gpu: input_gray, input_ab, target = input_gray.cuda(), input_ab.cuda(), target.cuda()\n",
        "\n",
        "    # Run model and record loss\n",
        "    output_ab = model(input_gray) # throw away class predictions\n",
        "    loss = criterion(output_ab, input_ab)\n",
        "    losses.update(loss.item(), input_gray.size(0))\n",
        "\n",
        "    # Save images to file\n",
        "    if save_images and not already_saved_images:\n",
        "      already_saved_images = True\n",
        "      for j in range(min(len(output_ab), 10)): # save at most 5 images\n",
        "        save_path = {'grayscale': 'outputs/gray/', 'colorized': 'outputs/color/'}\n",
        "        save_name = 'img-{}-epoch-{}.jpg'.format(i * val_loader.batch_size + j, epoch)\n",
        "        to_rgb(input_gray[j].cpu(), ab_input=output_ab[j].detach().cpu(), save_path=save_path, save_name=save_name)\n",
        "\n",
        "    # Record time to do forward passes and save images\n",
        "    batch_time.update(time.time() - end)\n",
        "    end = time.time()\n",
        "\n",
        "    # Print model accuracy -- in the code below, val refers to both value and validation\n",
        "    if i % 25 == 0:\n",
        "      print('Validate: [{0}/{1}]\\t'\n",
        "            'Time {batch_time.val:.3f} ({batch_time.avg:.3f})\\t'\n",
        "            'Loss {loss.val:.4f} ({loss.avg:.4f})\\t'.format(\n",
        "             i, len(val_loader), batch_time=batch_time, loss=losses))\n",
        "\n",
        "  print('Finished validation.')\n",
        "  return losses.avg"
      ],
      "execution_count": 12,
      "outputs": []
    },
    {
      "cell_type": "code",
      "metadata": {
        "id": "5oIvRPBtl8zS"
      },
      "source": [
        "def train(train_loader, model, criterion, optimizer, epoch):\n",
        "  print('Starting training epoch {}'.format(epoch))\n",
        "  model.train()\n",
        "  \n",
        "  # Prepare value counters and timers\n",
        "  batch_time, data_time, losses = AverageMeter(), AverageMeter(), AverageMeter()\n",
        "\n",
        "  end = time.time()\n",
        "  for i, (input_gray, input_ab, target) in enumerate(train_loader):\n",
        "    \n",
        "    # Use GPU if available\n",
        "    if use_gpu: input_gray, input_ab, target = input_gray.cuda(), input_ab.cuda(), target.cuda()\n",
        "\n",
        "    # Record time to load data (above)\n",
        "    data_time.update(time.time() - end)\n",
        "\n",
        "    # Run forward pass\n",
        "    output_ab = model(input_gray) \n",
        "    loss = criterion(output_ab, input_ab) \n",
        "    losses.update(loss.item(), input_gray.size(0))\n",
        "\n",
        "    # Compute gradient and optimize\n",
        "    optimizer.zero_grad()\n",
        "    loss.backward()\n",
        "    optimizer.step()\n",
        "\n",
        "    # Record time to do forward and backward passes\n",
        "    batch_time.update(time.time() - end)\n",
        "    end = time.time()\n",
        "\n",
        "    # Print model accuracy -- in the code below, val refers to value, not validation\n",
        "    if i % 50 == 0:\n",
        "      print('Epoch: [{0}][{1}/{2}]\\t'\n",
        "            'Time {batch_time.val:.3f} ({batch_time.avg:.3f})\\t'\n",
        "            'Data {data_time.val:.3f} ({data_time.avg:.3f})\\t'\n",
        "            'Loss {loss.val:.4f} ({loss.avg:.4f})\\t'.format(\n",
        "              epoch, i, len(train_loader), batch_time=batch_time,\n",
        "             data_time=data_time, loss=losses)) \n",
        "\n",
        "  print('Finished training epoch {}'.format(epoch))"
      ],
      "execution_count": 13,
      "outputs": []
    },
    {
      "cell_type": "code",
      "metadata": {
        "id": "F9c1-JK8l_5r"
      },
      "source": [
        "# Make folders and set parameters\n",
        "os.makedirs('outputs/color', exist_ok=True)\n",
        "os.makedirs('outputs/gray', exist_ok=True)\n",
        "os.makedirs('checkpoints', exist_ok=True)\n",
        "save_images = True\n",
        "best_losses = 2e2"
      ],
      "execution_count": 14,
      "outputs": []
    },
    {
      "cell_type": "code",
      "metadata": {
        "id": "bXH21kgPl-VA"
      },
      "source": [
        "criterion = nn.MSELoss()\n",
        "#criterion = nn.L1Loss()\n",
        "\n",
        "# Move model and loss function to GPU\n",
        "if use_gpu: \n",
        "  criterion = criterion.cuda()\n",
        "  model = model.cuda()"
      ],
      "execution_count": 16,
      "outputs": []
    },
    {
      "cell_type": "code",
      "metadata": {
        "id": "iO3_THFPmBk3",
        "colab": {
          "base_uri": "https://localhost:8080/"
        },
        "outputId": "196233e9-08d3-4a5e-f45e-bace299e85ab"
      },
      "source": [
        "# Train model\n",
        "epochs = 25\n",
        "loss_arr = []\n",
        "\n",
        "for epoch in range(epochs):\n",
        "  optimizer = torch.optim.Adam(model.parameters(), lr=1e-4, weight_decay=.00001)\n",
        "  # Train for one epoch, then validate\n",
        "  train(train_loader, model, criterion, optimizer, epoch)\n",
        "  with torch.no_grad():\n",
        "    losses = validate(val_loader, model, criterion, save_images, epoch)\n",
        "    loss_arr.append(losses)\n",
        "  #Save checkpoint and replace old best model if current model is better\n",
        "  if losses < best_losses:\n",
        "    best_losses = losses\n",
        "    torch.save(model.state_dict(), 'checkpoints/model-epoch-{}-losses-{:.3f}.pth'.format(epoch+1,losses))"
      ],
      "execution_count": null,
      "outputs": [
        {
          "output_type": "stream",
          "text": [
            "Starting training epoch 0\n"
          ],
          "name": "stdout"
        },
        {
          "output_type": "stream",
          "text": [
            "/usr/local/lib/python3.7/dist-packages/torch/nn/functional.py:718: UserWarning: Named tensors and all their associated APIs are an experimental feature and subject to change. Please do not use them for anything important until they are released as stable. (Triggered internally at  /pytorch/c10/core/TensorImpl.h:1156.)\n",
            "  return torch.max_pool2d(input, kernel_size, stride, padding, dilation, ceil_mode)\n"
          ],
          "name": "stderr"
        },
        {
          "output_type": "stream",
          "text": [
            "Epoch: [0][0/154]\tTime 1.718 (1.718)\tData 1.505 (1.505)\tLoss 0.6590 (0.6590)\t\n",
            "Epoch: [0][50/154]\tTime 1.457 (1.455)\tData 1.386 (1.381)\tLoss 0.0316 (0.2199)\t\n",
            "Epoch: [0][100/154]\tTime 1.428 (1.450)\tData 1.356 (1.377)\tLoss 0.0075 (0.1171)\t\n",
            "Epoch: [0][150/154]\tTime 1.469 (1.454)\tData 1.396 (1.381)\tLoss 0.0058 (0.0806)\t\n",
            "Finished training epoch 0\n"
          ],
          "name": "stdout"
        },
        {
          "output_type": "stream",
          "text": [
            "/usr/local/lib/python3.7/dist-packages/skimage/color/colorconv.py:1068: UserWarning: Color data out of range: Z < 0 in 1 pixels\n",
            "  return xyz2rgb(lab2xyz(lab, illuminant, observer))\n",
            "/usr/local/lib/python3.7/dist-packages/skimage/color/colorconv.py:1068: UserWarning: Color data out of range: Z < 0 in 100 pixels\n",
            "  return xyz2rgb(lab2xyz(lab, illuminant, observer))\n",
            "/usr/local/lib/python3.7/dist-packages/skimage/color/colorconv.py:1068: UserWarning: Color data out of range: Z < 0 in 78 pixels\n",
            "  return xyz2rgb(lab2xyz(lab, illuminant, observer))\n",
            "/usr/local/lib/python3.7/dist-packages/skimage/color/colorconv.py:1068: UserWarning: Color data out of range: Z < 0 in 93 pixels\n",
            "  return xyz2rgb(lab2xyz(lab, illuminant, observer))\n",
            "/usr/local/lib/python3.7/dist-packages/skimage/color/colorconv.py:1068: UserWarning: Color data out of range: Z < 0 in 12 pixels\n",
            "  return xyz2rgb(lab2xyz(lab, illuminant, observer))\n",
            "/usr/local/lib/python3.7/dist-packages/skimage/color/colorconv.py:1068: UserWarning: Color data out of range: Z < 0 in 26 pixels\n",
            "  return xyz2rgb(lab2xyz(lab, illuminant, observer))\n"
          ],
          "name": "stderr"
        },
        {
          "output_type": "stream",
          "text": [
            "Validate: [0/31]\tTime 1.800 (1.800)\tLoss 0.0078 (0.0078)\t\n",
            "Validate: [25/31]\tTime 1.502 (1.505)\tLoss 0.0068 (0.0064)\t\n",
            "Finished validation.\n",
            "Starting training epoch 1\n",
            "Epoch: [1][0/154]\tTime 1.482 (1.482)\tData 1.386 (1.386)\tLoss 0.0053 (0.0053)\t\n",
            "Epoch: [1][50/154]\tTime 1.437 (1.444)\tData 1.365 (1.371)\tLoss 0.0049 (0.0062)\t\n",
            "Epoch: [1][100/154]\tTime 1.443 (1.454)\tData 1.370 (1.381)\tLoss 0.0054 (0.0058)\t\n",
            "Epoch: [1][150/154]\tTime 1.464 (1.455)\tData 1.390 (1.383)\tLoss 0.0046 (0.0056)\t\n",
            "Finished training epoch 1\n",
            "Validate: [0/31]\tTime 1.773 (1.773)\tLoss 0.0058 (0.0058)\t\n",
            "Validate: [25/31]\tTime 1.486 (1.524)\tLoss 0.0054 (0.0048)\t\n",
            "Finished validation.\n",
            "Starting training epoch 2\n",
            "Epoch: [2][0/154]\tTime 1.500 (1.500)\tData 1.404 (1.404)\tLoss 0.0044 (0.0044)\t\n",
            "Epoch: [2][50/154]\tTime 1.456 (1.466)\tData 1.384 (1.393)\tLoss 0.0047 (0.0051)\t\n",
            "Epoch: [2][100/154]\tTime 1.456 (1.465)\tData 1.383 (1.392)\tLoss 0.0048 (0.0049)\t\n",
            "Epoch: [2][150/154]\tTime 1.461 (1.462)\tData 1.389 (1.390)\tLoss 0.0040 (0.0048)\t\n",
            "Finished training epoch 2\n",
            "Validate: [0/31]\tTime 1.756 (1.756)\tLoss 0.0057 (0.0057)\t\n",
            "Validate: [25/31]\tTime 1.470 (1.487)\tLoss 0.0048 (0.0045)\t\n",
            "Finished validation.\n",
            "Starting training epoch 3\n",
            "Epoch: [3][0/154]\tTime 1.505 (1.505)\tData 1.409 (1.409)\tLoss 0.0064 (0.0064)\t\n"
          ],
          "name": "stdout"
        }
      ]
    },
    {
      "cell_type": "code",
      "metadata": {
        "id": "4WoRxDkFRYCq"
      },
      "source": [
        "plt.title('Loss function')\n",
        "plt.plot(np.arange(epochs),loss_arr,'o-')\n",
        "plt.xlabel('Epochs')"
      ],
      "execution_count": null,
      "outputs": []
    },
    {
      "cell_type": "code",
      "metadata": {
        "id": "otssQEFn5YfM"
      },
      "source": [
        "torch.save(model.state_dict(), '/content/model.pth')"
      ],
      "execution_count": null,
      "outputs": []
    },
    {
      "cell_type": "code",
      "metadata": {
        "id": "wPYwK_7XqXFp"
      },
      "source": [
        "# Load model\n",
        "pretrained = torch.load('/content/model.pth')\n",
        "model.load_state_dict(pretrained)"
      ],
      "execution_count": null,
      "outputs": []
    },
    {
      "cell_type": "code",
      "metadata": {
        "id": "OT9z1DjHqYg0"
      },
      "source": [
        "# Validate\n",
        "save_images = True\n",
        "with torch.no_grad():\n",
        "  validate(val_loader, model, criterion, save_images, 0)"
      ],
      "execution_count": null,
      "outputs": []
    },
    {
      "cell_type": "code",
      "metadata": {
        "id": "eKURPGrimTmK"
      },
      "source": [
        "# Show images \n",
        "import matplotlib.image as mpimg\n",
        "image_pairs = [('outputs/color/img-4-epoch-'+str(epochs - 1)+'.jpg', 'outputs/gray/img-4-epoch-'+str(epochs - 1)+'.jpg'),\n",
        "               ('outputs/color/img-5-epoch-'+str(epochs - 1)+'.jpg', 'outputs/gray/img-5-epoch-'+str(epochs - 1)+'.jpg')]\n",
        "for c, g in image_pairs:\n",
        "  color = mpimg.imread(c)\n",
        "  gray  = mpimg.imread(g)\n",
        "  f, axarr = plt.subplots(1, 2)\n",
        "  f.set_size_inches(15, 15)\n",
        "  axarr[0].imshow(gray, cmap='gray')\n",
        "  axarr[1].imshow(color)\n",
        "  axarr[0].axis('off'), axarr[1].axis('off')\n",
        "  plt.show()"
      ],
      "execution_count": null,
      "outputs": []
    },
    {
      "cell_type": "code",
      "metadata": {
        "id": "gkap3D5KGeLR"
      },
      "source": [
        "import cv2\n",
        "from google.colab.patches import cv2_imshow\n",
        "image_orig = cv2.imread('/content/outputs/gray/img-9-epoch-'+str(epochs - 1)+'.jpg')\n",
        "image = cv2.imread('/content/outputs/color/img-9-epoch-'+str(epochs - 1)+'.jpg')\n",
        "\n",
        "alpha = 1.5 # Contrast control (1.0-3.0)\n",
        "#beta = 0 # Brightness control (0-100)\n",
        "\n",
        "adjusted = cv2.convertScaleAbs(image, alpha=1.5, beta=0)\n",
        "w,h = 300,300\n",
        "image_orig = cv2.resize(image_orig, (w,h))  #resize images\n",
        "image = cv2.resize(image, (w,h))\n",
        "adjusted = cv2.resize(adjusted, (w,h))\n",
        "\n",
        "cv2_imshow(image_orig)\n",
        "cv2_imshow(image)\n",
        "cv2_imshow(adjusted)\n",
        "#cv2.waitKey()"
      ],
      "execution_count": null,
      "outputs": []
    },
    {
      "cell_type": "code",
      "metadata": {
        "id": "A3TcofIT8c5F"
      },
      "source": [
        ""
      ],
      "execution_count": null,
      "outputs": []
    }
  ]
}