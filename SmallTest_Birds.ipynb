{
 "cells": [
  {
   "cell_type": "markdown",
   "metadata": {
    "colab_type": "text",
    "id": "view-in-github"
   },
   "source": [
    "<a href=\"https://colab.research.google.com/github/SaverioMonaco/ImageColorization/blob/master/SmallTest_Birds.ipynb\" target=\"_parent\"><img src=\"https://colab.research.google.com/assets/colab-badge.svg\" alt=\"Open In Colab\"/></a>"
   ]
  },
  {
   "cell_type": "markdown",
   "metadata": {
    "id": "CwyPT434GU5Q"
   },
   "source": [
    "# Image Recoloring: Small test"
   ]
  },
  {
   "cell_type": "code",
   "execution_count": null,
   "metadata": {
    "id": "zAOukcgcCaZp"
   },
   "outputs": [],
   "source": [
    "!ls"
   ]
  },
  {
   "cell_type": "code",
   "execution_count": null,
   "metadata": {
    "id": "aLniP64wvQ5w"
   },
   "outputs": [],
   "source": [
    "# Download and extract\n",
    "!gdown https://drive.google.com/u/0/uc?id=1hbzc_P1FuxMkcabkgn9ZKinBwW683j45&export=download\n",
    "\n",
    "import tarfile\n",
    "tar = tarfile.open(\"CUB_200_2011.tgz\")\n",
    "tar.extractall()\n",
    "tar.close()\n",
    "\n",
    "!mkdir birds\n",
    "\n",
    "# For this small version, I selected a small dataset containing only yellow birds\n",
    "!mv CUB_200_2011/images/020.Yellow_breasted_Chat/*.jpg birds\n",
    "!mv CUB_200_2011/images/043.Yellow_bellied_Flycatcher/*.jpg birds\n",
    "!mv CUB_200_2011/images/047.American_Goldfinch/*.jpg birds\n",
    "!mv CUB_200_2011/images/055.Evening_Grosbeak/*.jpg birds\n",
    "!mv CUB_200_2011/images/077.Tropical_Kingbird/*.jpg birds\n",
    "!mv CUB_200_2011/images/088.Western_Meadowlark/*.jpg birds\n",
    "!mv CUB_200_2011/images/095.Baltimore_Oriole/*.jpg birds\n",
    "!mv CUB_200_2011/images/096.Hooded_Oriole/*.jpg birds\n",
    "!mv CUB_200_2011/images/174.Palm_Warbler/*.jpg birds\n",
    "!mv CUB_200_2011/images/182.Yellow_Warbler/*.jpg birds\n",
    "\n",
    "\n",
    "# Move every photo to the dataset folder, if you want a bigger one\n",
    "!mv CUB_200_2011/images/*/*.jpg birds"
   ]
  },
  {
   "cell_type": "code",
   "execution_count": null,
   "metadata": {
    "id": "kGhLC8CwKQgj"
   },
   "outputs": [],
   "source": [
    "'''from google.colab import drive\n",
    "drive.mount('/content/gdrive')\n",
    "\n",
    "!mkdir birds\n",
    "!cp /content/gdrive/MyDrive/smallbirds/*/*.jpg birds'''"
   ]
  },
  {
   "cell_type": "code",
   "execution_count": null,
   "metadata": {
    "id": "VavQXKN2lcaq"
   },
   "outputs": [],
   "source": [
    "# Move data into training and validation directories\n",
    "import os\n",
    "\n",
    "# Make the folders\n",
    "os.makedirs('images/train/class/', exist_ok=True)\n",
    "os.makedirs('images/val/class/', exist_ok=True)\n",
    "\n",
    "for i, file in enumerate(os.listdir('birds')):\n",
    "  if i < int(len(os.listdir('birds'))*0.2): # first 20% will be val\n",
    "    os.rename('birds/' + file, 'images/val/class/' + file)\n",
    "  else: # others will be in train\n",
    "    os.rename('birds/' + file, 'images/train/class/' + file)"
   ]
  },
  {
   "cell_type": "code",
   "execution_count": null,
   "metadata": {
    "id": "bnR7rg33lesu"
   },
   "outputs": [],
   "source": [
    "# Make sure the images are there\n",
    "from IPython.display import Image, display\n",
    "# Display first photo of train dataset\n",
    "display(Image(filename='images/train/class/' + os.listdir('images/train/class/')[0]))\n"
   ]
  },
  {
   "cell_type": "code",
   "execution_count": null,
   "metadata": {
    "id": "nYYgvGYuliUn"
   },
   "outputs": [],
   "source": [
    "# For plotting\n",
    "import numpy as np\n",
    "import matplotlib.pyplot as plt\n",
    "%matplotlib inline\n",
    "\n",
    "# For conversion\n",
    "from skimage.color import lab2rgb, rgb2lab, rgb2gray\n",
    "from skimage import io\n",
    "\n",
    "# For everything\n",
    "import torch\n",
    "import torch.nn as nn\n",
    "import torch.nn.functional as F\n",
    "\n",
    "# For our model\n",
    "import torchvision.models as models\n",
    "from torchvision import datasets, transforms\n",
    "\n",
    "# For utilities\n",
    "import os, shutil, time"
   ]
  },
  {
   "cell_type": "code",
   "execution_count": null,
   "metadata": {
    "id": "NxgD8Wh0lnW4"
   },
   "outputs": [],
   "source": [
    "# Check if GPU is available\n",
    "use_gpu = torch.cuda.is_available()\n",
    "if use_gpu:\n",
    "  print('You are using GPU')"
   ]
  },
  {
   "cell_type": "code",
   "execution_count": null,
   "metadata": {
    "id": "D3lMrRUylqN4"
   },
   "outputs": [],
   "source": [
    "# NET CLASS\n",
    "class ColorizationNet(nn.Module):\n",
    "  def __init__(self, input_size=128):\n",
    "    super(ColorizationNet, self).__init__()\n",
    "    MIDLEVEL_FEATURE_SIZE = 128\n",
    "\n",
    "    ## First half: ResNet\n",
    "    resnet = models.resnet18(pretrained=True) #num_classes=365,\n",
    "    # Change first conv layer to accept single-channel (grayscale) input\n",
    "    resnet.conv1.weight = nn.Parameter(resnet.conv1.weight.sum(dim=1).unsqueeze(1)) \n",
    "    # Extract midlevel features from ResNet-gray\n",
    "    self.midlevel_resnet = nn.Sequential(*list(resnet.children())[0:6])\n",
    "\n",
    "    ## Second half: Upsampling\n",
    "    self.upsample = nn.Sequential(     \n",
    "      nn.Conv2d(MIDLEVEL_FEATURE_SIZE, 128, kernel_size=3, stride=1, padding=1),\n",
    "      nn.BatchNorm2d(128),\n",
    "      nn.ReLU(),\n",
    "      nn.Upsample(scale_factor=2),\n",
    "      nn.Conv2d(128, 64, kernel_size=3, stride=1, padding=1),\n",
    "      nn.BatchNorm2d(64),\n",
    "      nn.ReLU(),\n",
    "      nn.Conv2d(64, 64, kernel_size=3, stride=1, padding=1),\n",
    "      nn.BatchNorm2d(64),\n",
    "      nn.ReLU(),\n",
    "      nn.Upsample(scale_factor=2),\n",
    "      nn.Conv2d(64, 32, kernel_size=3, stride=1, padding=1),\n",
    "      nn.BatchNorm2d(32),\n",
    "      nn.ReLU(),\n",
    "      nn.Conv2d(32, 2, kernel_size=3, stride=1, padding=1),\n",
    "      nn.Upsample(scale_factor=2)\n",
    "    )\n",
    "\n",
    "  def forward(self, input):\n",
    "    # Pass input through ResNet-gray to extract features\n",
    "    midlevel_features = self.midlevel_resnet(input)\n",
    "\n",
    "    # Upsample to get colors\n",
    "    output = self.upsample(midlevel_features)\n",
    "    return output"
   ]
  },
  {
   "cell_type": "code",
   "execution_count": null,
   "metadata": {
    "id": "y4UHtdsTlsyA"
   },
   "outputs": [],
   "source": [
    "model = ColorizationNet()\n",
    "# You are downloading the first half pretrained ResNet"
   ]
  },
  {
   "cell_type": "code",
   "execution_count": null,
   "metadata": {
    "id": "ufkt90tPlwGB"
   },
   "outputs": [],
   "source": []
  },
  {
   "cell_type": "code",
   "execution_count": null,
   "metadata": {
    "id": "wbdkoDsxl1Zh"
   },
   "outputs": [],
   "source": [
    "class GrayscaleImageFolder(datasets.ImageFolder):\n",
    "  '''Custom images folder, which converts images to grayscale before loading'''\n",
    "  def __getitem__(self, index):\n",
    "    path, target = self.imgs[index]\n",
    "    img = self.loader(path)\n",
    "    if self.transform is not None:\n",
    "      img_original = self.transform(img)\n",
    "      img_original = np.asarray(img_original)\n",
    "      img_lab = rgb2lab(img_original)\n",
    "      img_lab = (img_lab + 128) / 255\n",
    "      img_ab = img_lab[:, :, 1:3]\n",
    "      img_ab = torch.from_numpy(img_ab.transpose((2, 0, 1))).float()\n",
    "      img_original = rgb2gray(img_original)\n",
    "      img_original = torch.from_numpy(img_original).unsqueeze(0).float()\n",
    "    if self.target_transform is not None:\n",
    "      target = self.target_transform(target)\n",
    "    return img_original, img_ab, target\n",
    "\n",
    "# Next we define transforms for our training and validation data.\n",
    "# Training\n",
    "train_transforms = transforms.Compose([transforms.RandomResizedCrop(224), transforms.RandomHorizontalFlip(),transforms.ColorJitter(saturation=[1.5,1.5])] )\n",
    "train_imagefolder = GrayscaleImageFolder('images/train' , train_transforms)\n",
    "train_loader = torch.utils.data.DataLoader(train_imagefolder, batch_size=64, shuffle=True)\n",
    "\n",
    "# Validation \n",
    "val_transforms = transforms.Compose([transforms.Resize(256), transforms.CenterCrop(224), transforms.ColorJitter(saturation=[1.5,1.5])])\n",
    "val_imagefolder = GrayscaleImageFolder('images/val' , val_transforms)\n",
    "val_loader = torch.utils.data.DataLoader(val_imagefolder, batch_size=64, shuffle=False)"
   ]
  },
  {
   "cell_type": "code",
   "execution_count": null,
   "metadata": {
    "id": "dKsfs4UGl5Pk"
   },
   "outputs": [],
   "source": [
    "class AverageMeter(object):\n",
    "  '''A handy class from the PyTorch ImageNet tutorial''' \n",
    "  def __init__(self):\n",
    "    self.reset()\n",
    "  def reset(self):\n",
    "    self.val, self.avg, self.sum, self.count = 0, 0, 0, 0\n",
    "  def update(self, val, n=1):\n",
    "    self.val = val\n",
    "    self.sum += val * n\n",
    "    self.count += n\n",
    "    self.avg = self.sum / self.count\n",
    "\n",
    "def to_rgb(grayscale_input, ab_input, save_path=None, save_name=None):\n",
    "  '''Show/save rgb image from grayscale and ab channels\n",
    "     Input save_path in the form {'grayscale': '/path/', 'colorized': '/path/'}'''\n",
    "  plt.clf() # clear matplotlib \n",
    "  color_image = torch.cat((grayscale_input, ab_input), 0).numpy() # combine channels\n",
    "  color_image = color_image.transpose((1, 2, 0))  # rescale for matplotlib\n",
    "  color_image[:, :, 0:1] = color_image[:, :, 0:1] * 100\n",
    "  color_image[:, :, 1:3] = color_image[:, :, 1:3] * 255 - 128   \n",
    "  color_image = lab2rgb(color_image.astype(np.float64))\n",
    "  grayscale_input = grayscale_input.squeeze().numpy()\n",
    "  if save_path is not None and save_name is not None: \n",
    "    plt.imsave(arr=grayscale_input, fname='{}{}'.format(save_path['grayscale'], save_name), cmap='gray')\n",
    "    plt.imsave(arr=color_image, fname='{}{}'.format(save_path['colorized'], save_name))"
   ]
  },
  {
   "cell_type": "code",
   "execution_count": null,
   "metadata": {
    "id": "eB9ZzEMVl69L"
   },
   "outputs": [],
   "source": [
    "def validate(val_loader, model, criterion, save_images, epoch):\n",
    "  model.eval()\n",
    "\n",
    "  # Prepare value counters and timers\n",
    "  batch_time, data_time, losses = AverageMeter(), AverageMeter(), AverageMeter()\n",
    "\n",
    "  end = time.time()\n",
    "  already_saved_images = False\n",
    "  for i, (input_gray, input_ab, target) in enumerate(val_loader):\n",
    "    data_time.update(time.time() - end)\n",
    "\n",
    "    # Use GPU\n",
    "    if use_gpu: input_gray, input_ab, target = input_gray.cuda(), input_ab.cuda(), target.cuda()\n",
    "\n",
    "    # Run model and record loss\n",
    "    output_ab = model(input_gray) # throw away class predictions\n",
    "    loss = criterion(output_ab, input_ab)\n",
    "    losses.update(loss.item(), input_gray.size(0))\n",
    "\n",
    "    # Save images to file\n",
    "    if save_images and not already_saved_images:\n",
    "      already_saved_images = True\n",
    "      for j in range(min(len(output_ab), 10)): # save at most 5 images\n",
    "        save_path = {'grayscale': 'outputs/gray/', 'colorized': 'outputs/color/'}\n",
    "        save_name = 'img-{}-epoch-{}.jpg'.format(i * val_loader.batch_size + j, epoch)\n",
    "        to_rgb(input_gray[j].cpu(), ab_input=output_ab[j].detach().cpu(), save_path=save_path, save_name=save_name)\n",
    "\n",
    "    # Record time to do forward passes and save images\n",
    "    batch_time.update(time.time() - end)\n",
    "    end = time.time()\n",
    "\n",
    "    # Print model accuracy -- in the code below, val refers to both value and validation\n",
    "    if i % 25 == 0:\n",
    "      print('Validate: [{0}/{1}]\\t'\n",
    "            'Time {batch_time.val:.3f} ({batch_time.avg:.3f})\\t'\n",
    "            'Loss {loss.val:.4f} ({loss.avg:.4f})\\t'.format(\n",
    "             i, len(val_loader), batch_time=batch_time, loss=losses))\n",
    "\n",
    "  print('Finished validation.')\n",
    "  return losses.avg"
   ]
  },
  {
   "cell_type": "code",
   "execution_count": null,
   "metadata": {
    "id": "5oIvRPBtl8zS"
   },
   "outputs": [],
   "source": [
    "def train(train_loader, model, criterion, optimizer, epoch):\n",
    "  print('Starting training epoch {}'.format(epoch))\n",
    "  model.train()\n",
    "  \n",
    "  # Prepare value counters and timers\n",
    "  batch_time, data_time, losses = AverageMeter(), AverageMeter(), AverageMeter()\n",
    "\n",
    "  end = time.time()\n",
    "  for i, (input_gray, input_ab, target) in enumerate(train_loader):\n",
    "    \n",
    "    # Use GPU if available\n",
    "    if use_gpu: input_gray, input_ab, target = input_gray.cuda(), input_ab.cuda(), target.cuda()\n",
    "\n",
    "    # Record time to load data (above)\n",
    "    data_time.update(time.time() - end)\n",
    "\n",
    "    # Run forward pass\n",
    "    output_ab = model(input_gray) \n",
    "    loss = criterion(output_ab, input_ab) \n",
    "    losses.update(loss.item(), input_gray.size(0))\n",
    "\n",
    "    # Compute gradient and optimize\n",
    "    optimizer.zero_grad()\n",
    "    loss.backward()\n",
    "    optimizer.step()\n",
    "\n",
    "    # Record time to do forward and backward passes\n",
    "    batch_time.update(time.time() - end)\n",
    "    end = time.time()\n",
    "\n",
    "    # Print model accuracy -- in the code below, val refers to value, not validation\n",
    "    if i % 50 == 0:\n",
    "      print('Epoch: [{0}][{1}/{2}]\\t'\n",
    "            'Time {batch_time.val:.3f} ({batch_time.avg:.3f})\\t'\n",
    "            'Data {data_time.val:.3f} ({data_time.avg:.3f})\\t'\n",
    "            'Loss {loss.val:.4f} ({loss.avg:.4f})\\t'.format(\n",
    "              epoch, i, len(train_loader), batch_time=batch_time,\n",
    "             data_time=data_time, loss=losses)) \n",
    "\n",
    "  print('Finished training epoch {}'.format(epoch))"
   ]
  },
  {
   "cell_type": "code",
   "execution_count": null,
   "metadata": {
    "id": "F9c1-JK8l_5r"
   },
   "outputs": [],
   "source": [
    "# Make folders and set parameters\n",
    "os.makedirs('outputs/color', exist_ok=True)\n",
    "os.makedirs('outputs/gray', exist_ok=True)\n",
    "os.makedirs('checkpoints', exist_ok=True)\n",
    "save_images = True\n",
    "best_losses = 2e2"
   ]
  },
  {
   "cell_type": "code",
   "execution_count": null,
   "metadata": {
    "id": "bXH21kgPl-VA"
   },
   "outputs": [],
   "source": [
    "criterion = nn.MSELoss()\n",
    "#criterion = nn.L1Loss()\n",
    "\n",
    "# Move model and loss function to GPU\n",
    "if use_gpu: \n",
    "  criterion = criterion.cuda()\n",
    "  model = model.cuda()"
   ]
  },
  {
   "cell_type": "code",
   "execution_count": null,
   "metadata": {
    "id": "iO3_THFPmBk3"
   },
   "outputs": [],
   "source": [
    "# Train model\n",
    "epochs = 25\n",
    "loss_arr = []\n",
    "\n",
    "for epoch in range(epochs):\n",
    "  optimizer = torch.optim.Adam(model.parameters(), lr=1e-4, weight_decay=.00001)\n",
    "  # Train for one epoch, then validate\n",
    "  train(train_loader, model, criterion, optimizer, epoch)\n",
    "  with torch.no_grad():\n",
    "    losses = validate(val_loader, model, criterion, save_images, epoch)\n",
    "    loss_arr.append(losses)\n",
    "  #Save checkpoint and replace old best model if current model is better\n",
    "  if losses < best_losses:\n",
    "    best_losses = losses\n",
    "    torch.save(model.state_dict(), 'checkpoints/model-epoch-{}-losses-{:.3f}.pth'.format(epoch+1,losses))"
   ]
  },
  {
   "cell_type": "code",
   "execution_count": null,
   "metadata": {
    "id": "4WoRxDkFRYCq"
   },
   "outputs": [],
   "source": [
    "plt.title('Loss function')\n",
    "plt.plot(np.arange(epochs),loss_arr,'o-')\n",
    "plt.xlabel('Epochs')"
   ]
  },
  {
   "cell_type": "code",
   "execution_count": null,
   "metadata": {
    "id": "otssQEFn5YfM"
   },
   "outputs": [],
   "source": [
    "torch.save(model.state_dict(), '/content/model.pth')"
   ]
  },
  {
   "cell_type": "code",
   "execution_count": null,
   "metadata": {
    "id": "UUJ2tGYI1nqK"
   },
   "outputs": [],
   "source": [
    "from google.colab import files\n",
    "files.download('/content/model.pth') "
   ]
  },
  {
   "cell_type": "code",
   "execution_count": null,
   "metadata": {
    "id": "wPYwK_7XqXFp"
   },
   "outputs": [],
   "source": [
    "# Load model\n",
    "pretrained = torch.load('/content/model.pth')\n",
    "model.load_state_dict(pretrained)"
   ]
  },
  {
   "cell_type": "code",
   "execution_count": null,
   "metadata": {
    "id": "OT9z1DjHqYg0"
   },
   "outputs": [],
   "source": [
    "# Validate\n",
    "save_images = True\n",
    "with torch.no_grad():\n",
    "  validate(val_loader, model, criterion, save_images, 0)"
   ]
  },
  {
   "cell_type": "code",
   "execution_count": null,
   "metadata": {
    "id": "eKURPGrimTmK"
   },
   "outputs": [],
   "source": [
    "# Show images \n",
    "import matplotlib.image as mpimg\n",
    "image_pairs = [('outputs/color/img-8-epoch-'+str(epochs - 1)+'.jpg', 'outputs/gray/img-8-epoch-'+str(epochs - 1)+'.jpg'),\n",
    "               ('outputs/color/img-9-epoch-'+str(epochs - 1)+'.jpg', 'outputs/gray/img-9-epoch-'+str(epochs - 1)+'.jpg')]\n",
    "for c, g in image_pairs:\n",
    "  color = mpimg.imread(c)\n",
    "  gray  = mpimg.imread(g)\n",
    "  f, axarr = plt.subplots(1, 2)\n",
    "  f.set_size_inches(15, 15)\n",
    "  axarr[0].imshow(gray, cmap='gray')\n",
    "  axarr[1].imshow(color)\n",
    "  axarr[0].axis('off'), axarr[1].axis('off')\n",
    "  plt.show()"
   ]
  },
  {
   "cell_type": "code",
   "execution_count": null,
   "metadata": {
    "id": "gkap3D5KGeLR"
   },
   "outputs": [],
   "source": [
    "import cv2\n",
    "from google.colab.patches import cv2_imshow\n",
    "image_orig = cv2.imread('/content/outputs/gray/img-9-epoch-'+str(epochs - 1)+'.jpg')\n",
    "image = cv2.imread('/content/outputs/color/img-9-epoch-'+str(epochs - 1)+'.jpg')\n",
    "\n",
    "alpha = 1.5 # Contrast control (1.0-3.0)\n",
    "#beta = 0 # Brightness control (0-100)\n",
    "\n",
    "adjusted = cv2.convertScaleAbs(image, alpha=1.5, beta=0)\n",
    "w,h = 300,300\n",
    "image_orig = cv2.resize(image_orig, (w,h))  #resize images\n",
    "image = cv2.resize(image, (w,h))\n",
    "adjusted = cv2.resize(adjusted, (w,h))\n",
    "\n",
    "cv2_imshow(image_orig)\n",
    "cv2_imshow(image)\n",
    "cv2_imshow(adjusted)\n",
    "#cv2.waitKey()"
   ]
  },
  {
   "cell_type": "code",
   "execution_count": null,
   "metadata": {
    "id": "A3TcofIT8c5F"
   },
   "outputs": [],
   "source": []
  }
 ],
 "metadata": {
  "colab": {
   "collapsed_sections": [],
   "include_colab_link": true,
   "name": "SmallTest_Birds.ipynb",
   "provenance": []
  },
  "kernelspec": {
   "display_name": "Python 3 (ipykernel)",
   "language": "python",
   "name": "python3"
  },
  "language_info": {
   "codemirror_mode": {
    "name": "ipython",
    "version": 3
   },
   "file_extension": ".py",
   "mimetype": "text/x-python",
   "name": "python",
   "nbconvert_exporter": "python",
   "pygments_lexer": "ipython3",
   "version": "3.8.10"
  }
 },
 "nbformat": 4,
 "nbformat_minor": 4
}
