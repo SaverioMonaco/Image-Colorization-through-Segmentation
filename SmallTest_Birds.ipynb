{
  "nbformat": 4,
  "nbformat_minor": 0,
  "metadata": {
    "colab": {
      "name": "SmallTest_Birds.ipynb",
      "provenance": [],
      "collapsed_sections": [],
      "include_colab_link": true
    },
    "kernelspec": {
      "display_name": "Python 3",
      "name": "python3"
    },
    "language_info": {
      "name": "python"
    },
    "widgets": {
      "application/vnd.jupyter.widget-state+json": {
        "df2068a845854e3f9d12a8ae240841bd": {
          "model_module": "@jupyter-widgets/controls",
          "model_name": "HBoxModel",
          "state": {
            "_view_name": "HBoxView",
            "_dom_classes": [],
            "_model_name": "HBoxModel",
            "_view_module": "@jupyter-widgets/controls",
            "_model_module_version": "1.5.0",
            "_view_count": null,
            "_view_module_version": "1.5.0",
            "box_style": "",
            "layout": "IPY_MODEL_f7bcdfff72914139be89ebf0d144f067",
            "_model_module": "@jupyter-widgets/controls",
            "children": [
              "IPY_MODEL_baa1712f87804fd0b6a98921d98f8e86",
              "IPY_MODEL_68c6e26d8e854317b09ed9d01081e45c"
            ]
          }
        },
        "f7bcdfff72914139be89ebf0d144f067": {
          "model_module": "@jupyter-widgets/base",
          "model_name": "LayoutModel",
          "state": {
            "_view_name": "LayoutView",
            "grid_template_rows": null,
            "right": null,
            "justify_content": null,
            "_view_module": "@jupyter-widgets/base",
            "overflow": null,
            "_model_module_version": "1.2.0",
            "_view_count": null,
            "flex_flow": null,
            "width": null,
            "min_width": null,
            "border": null,
            "align_items": null,
            "bottom": null,
            "_model_module": "@jupyter-widgets/base",
            "top": null,
            "grid_column": null,
            "overflow_y": null,
            "overflow_x": null,
            "grid_auto_flow": null,
            "grid_area": null,
            "grid_template_columns": null,
            "flex": null,
            "_model_name": "LayoutModel",
            "justify_items": null,
            "grid_row": null,
            "max_height": null,
            "align_content": null,
            "visibility": null,
            "align_self": null,
            "height": null,
            "min_height": null,
            "padding": null,
            "grid_auto_rows": null,
            "grid_gap": null,
            "max_width": null,
            "order": null,
            "_view_module_version": "1.2.0",
            "grid_template_areas": null,
            "object_position": null,
            "object_fit": null,
            "grid_auto_columns": null,
            "margin": null,
            "display": null,
            "left": null
          }
        },
        "baa1712f87804fd0b6a98921d98f8e86": {
          "model_module": "@jupyter-widgets/controls",
          "model_name": "FloatProgressModel",
          "state": {
            "_view_name": "ProgressView",
            "style": "IPY_MODEL_5ecdab0449894503ad840d21e7667817",
            "_dom_classes": [],
            "description": "100%",
            "_model_name": "FloatProgressModel",
            "bar_style": "success",
            "max": 46830571,
            "_view_module": "@jupyter-widgets/controls",
            "_model_module_version": "1.5.0",
            "value": 46830571,
            "_view_count": null,
            "_view_module_version": "1.5.0",
            "orientation": "horizontal",
            "min": 0,
            "description_tooltip": null,
            "_model_module": "@jupyter-widgets/controls",
            "layout": "IPY_MODEL_599af67e57424aa6b2f13d1ceb8322c9"
          }
        },
        "68c6e26d8e854317b09ed9d01081e45c": {
          "model_module": "@jupyter-widgets/controls",
          "model_name": "HTMLModel",
          "state": {
            "_view_name": "HTMLView",
            "style": "IPY_MODEL_0d46f4f0f87e4c92a3ebb681c38fa76b",
            "_dom_classes": [],
            "description": "",
            "_model_name": "HTMLModel",
            "placeholder": "​",
            "_view_module": "@jupyter-widgets/controls",
            "_model_module_version": "1.5.0",
            "value": " 44.7M/44.7M [00:00&lt;00:00, 114MB/s]",
            "_view_count": null,
            "_view_module_version": "1.5.0",
            "description_tooltip": null,
            "_model_module": "@jupyter-widgets/controls",
            "layout": "IPY_MODEL_3144e5da25724617854035eeb4a68ba1"
          }
        },
        "5ecdab0449894503ad840d21e7667817": {
          "model_module": "@jupyter-widgets/controls",
          "model_name": "ProgressStyleModel",
          "state": {
            "_view_name": "StyleView",
            "_model_name": "ProgressStyleModel",
            "description_width": "initial",
            "_view_module": "@jupyter-widgets/base",
            "_model_module_version": "1.5.0",
            "_view_count": null,
            "_view_module_version": "1.2.0",
            "bar_color": null,
            "_model_module": "@jupyter-widgets/controls"
          }
        },
        "599af67e57424aa6b2f13d1ceb8322c9": {
          "model_module": "@jupyter-widgets/base",
          "model_name": "LayoutModel",
          "state": {
            "_view_name": "LayoutView",
            "grid_template_rows": null,
            "right": null,
            "justify_content": null,
            "_view_module": "@jupyter-widgets/base",
            "overflow": null,
            "_model_module_version": "1.2.0",
            "_view_count": null,
            "flex_flow": null,
            "width": null,
            "min_width": null,
            "border": null,
            "align_items": null,
            "bottom": null,
            "_model_module": "@jupyter-widgets/base",
            "top": null,
            "grid_column": null,
            "overflow_y": null,
            "overflow_x": null,
            "grid_auto_flow": null,
            "grid_area": null,
            "grid_template_columns": null,
            "flex": null,
            "_model_name": "LayoutModel",
            "justify_items": null,
            "grid_row": null,
            "max_height": null,
            "align_content": null,
            "visibility": null,
            "align_self": null,
            "height": null,
            "min_height": null,
            "padding": null,
            "grid_auto_rows": null,
            "grid_gap": null,
            "max_width": null,
            "order": null,
            "_view_module_version": "1.2.0",
            "grid_template_areas": null,
            "object_position": null,
            "object_fit": null,
            "grid_auto_columns": null,
            "margin": null,
            "display": null,
            "left": null
          }
        },
        "0d46f4f0f87e4c92a3ebb681c38fa76b": {
          "model_module": "@jupyter-widgets/controls",
          "model_name": "DescriptionStyleModel",
          "state": {
            "_view_name": "StyleView",
            "_model_name": "DescriptionStyleModel",
            "description_width": "",
            "_view_module": "@jupyter-widgets/base",
            "_model_module_version": "1.5.0",
            "_view_count": null,
            "_view_module_version": "1.2.0",
            "_model_module": "@jupyter-widgets/controls"
          }
        },
        "3144e5da25724617854035eeb4a68ba1": {
          "model_module": "@jupyter-widgets/base",
          "model_name": "LayoutModel",
          "state": {
            "_view_name": "LayoutView",
            "grid_template_rows": null,
            "right": null,
            "justify_content": null,
            "_view_module": "@jupyter-widgets/base",
            "overflow": null,
            "_model_module_version": "1.2.0",
            "_view_count": null,
            "flex_flow": null,
            "width": null,
            "min_width": null,
            "border": null,
            "align_items": null,
            "bottom": null,
            "_model_module": "@jupyter-widgets/base",
            "top": null,
            "grid_column": null,
            "overflow_y": null,
            "overflow_x": null,
            "grid_auto_flow": null,
            "grid_area": null,
            "grid_template_columns": null,
            "flex": null,
            "_model_name": "LayoutModel",
            "justify_items": null,
            "grid_row": null,
            "max_height": null,
            "align_content": null,
            "visibility": null,
            "align_self": null,
            "height": null,
            "min_height": null,
            "padding": null,
            "grid_auto_rows": null,
            "grid_gap": null,
            "max_width": null,
            "order": null,
            "_view_module_version": "1.2.0",
            "grid_template_areas": null,
            "object_position": null,
            "object_fit": null,
            "grid_auto_columns": null,
            "margin": null,
            "display": null,
            "left": null
          }
        }
      }
    }
  },
  "cells": [
    {
      "cell_type": "markdown",
      "metadata": {
        "id": "view-in-github",
        "colab_type": "text"
      },
      "source": [
        "<a href=\"https://colab.research.google.com/github/SaverioMonaco/ImageColorization/blob/master/SmallTest_Birds.ipynb\" target=\"_parent\"><img src=\"https://colab.research.google.com/assets/colab-badge.svg\" alt=\"Open In Colab\"/></a>"
      ]
    },
    {
      "cell_type": "markdown",
      "metadata": {
        "id": "CwyPT434GU5Q"
      },
      "source": [
        "# Image Recoloring: Small test"
      ]
    },
    {
      "cell_type": "code",
      "metadata": {
        "colab": {
          "base_uri": "https://localhost:8080/"
        },
        "id": "zAOukcgcCaZp",
        "outputId": "b9a3ef6f-d260-4170-c73b-2418d4c26c55"
      },
      "source": [
        "!ls"
      ],
      "execution_count": 1,
      "outputs": [
        {
          "output_type": "stream",
          "text": [
            "sample_data\n"
          ],
          "name": "stdout"
        }
      ]
    },
    {
      "cell_type": "code",
      "metadata": {
        "colab": {
          "base_uri": "https://localhost:8080/"
        },
        "id": "aLniP64wvQ5w",
        "outputId": "44363cf4-1bc0-412c-9ca1-62e33182e6f8"
      },
      "source": [
        "# Download and extract\n",
        "\n",
        "!gdown https://drive.google.com/u/0/uc?id=1hbzc_P1FuxMkcabkgn9ZKinBwW683j45&export=download\n",
        "\n",
        "import tarfile\n",
        "tar = tarfile.open(\"CUB_200_2011.tgz\")\n",
        "tar.extractall()\n",
        "tar.close()\n",
        "\n",
        "!mkdir birds\n",
        "\n",
        "# For this small version, I selected a small dataset containing only yellow birds\n",
        "!mv CUB_200_2011/images/020.Yellow_breasted_Chat/*.jpg birds\n",
        "!mv CUB_200_2011/images/043.Yellow_bellied_Flycatcher/*.jpg birds\n",
        "!mv CUB_200_2011/images/047.American_Goldfinch/*.jpg birds\n",
        "!mv CUB_200_2011/images/055.Evening_Grosbeak/*.jpg birds\n",
        "!mv CUB_200_2011/images/077.Tropical_Kingbird/*.jpg birds\n",
        "!mv CUB_200_2011/images/088.Western_Meadowlark/*.jpg birds\n",
        "!mv CUB_200_2011/images/095.Baltimore_Oriole/*.jpg birds\n",
        "!mv CUB_200_2011/images/096.Hooded_Oriole/*.jpg birds\n",
        "!mv CUB_200_2011/images/174.Palm_Warbler/*.jpg birds\n",
        "!mv CUB_200_2011/images/182.Yellow_Warbler/*.jpg birds\n",
        "\n",
        "\n",
        "# Move every photo to the dataset folder, if you want a bigger one\n",
        "#!mv CUB_200_2011/images/*/*.jpg birds"
      ],
      "execution_count": 2,
      "outputs": [
        {
          "output_type": "stream",
          "text": [
            "Permission denied: https://drive.google.com/u/0/uc?id=1hbzc_P1FuxMkcabkgn9ZKinBwW683j45\n",
            "Maybe you need to change permission over 'Anyone with the link'?\n",
            "sample_data\n"
          ],
          "name": "stdout"
        }
      ]
    },
    {
      "cell_type": "code",
      "metadata": {
        "colab": {
          "base_uri": "https://localhost:8080/"
        },
        "id": "kGhLC8CwKQgj",
        "outputId": "aced50df-02be-4418-ce43-f03c6e8b5a7b"
      },
      "source": [
        "from google.colab import drive\n",
        "drive.mount('/content/gdrive')\n",
        "\n",
        "!mkdir birds\n",
        "!cp /content/gdrive/MyDrive/smallbirds/*/*.jpg birds"
      ],
      "execution_count": 4,
      "outputs": [
        {
          "output_type": "stream",
          "text": [
            "Mounted at /content/gdrive\n",
            "^C\n"
          ],
          "name": "stdout"
        }
      ]
    },
    {
      "cell_type": "code",
      "metadata": {
        "id": "VavQXKN2lcaq"
      },
      "source": [
        "# Move data into training and validation directories\n",
        "import os\n",
        "\n",
        "# Make the folders\n",
        "os.makedirs('images/train/class/', exist_ok=True)\n",
        "os.makedirs('images/val/class/', exist_ok=True)\n",
        "\n",
        "for i, file in enumerate(os.listdir('birds')):\n",
        "  if i < int(len(os.listdir('birds'))*0.2): # first 20% will be val\n",
        "    os.rename('birds/' + file, 'images/val/class/' + file)\n",
        "  else: # others will be in train\n",
        "    os.rename('birds/' + file, 'images/train/class/' + file)"
      ],
      "execution_count": 7,
      "outputs": []
    },
    {
      "cell_type": "code",
      "metadata": {
        "colab": {
          "base_uri": "https://localhost:8080/",
          "height": 350
        },
        "id": "bnR7rg33lesu",
        "outputId": "93dab6ef-df9e-46ed-bb24-2222fb75a539"
      },
      "source": [
        "# Make sure the images are there\n",
        "from IPython.display import Image, display\n",
        "# Display first photo of train dataset\n",
        "display(Image(filename='images/train/class/' + os.listdir('images/train/class/')[0]))\n"
      ],
      "execution_count": 8,
      "outputs": [
        {
          "output_type": "display_data",
          "data": {
            "image/jpeg": "[encoded data removed]",
            "text/plain": [
              "<IPython.core.display.Image object>"
            ]
          },
          "metadata": {
            "tags": []
          }
        }
      ]
    },
    {
      "cell_type": "code",
      "metadata": {
        "id": "nYYgvGYuliUn"
      },
      "source": [
        "# For plotting\n",
        "import numpy as np\n",
        "import matplotlib.pyplot as plt\n",
        "%matplotlib inline\n",
        "\n",
        "# For conversion\n",
        "from skimage.color import lab2rgb, rgb2lab, rgb2gray\n",
        "from skimage import io\n",
        "\n",
        "# For everything\n",
        "import torch\n",
        "import torch.nn as nn\n",
        "import torch.nn.functional as F\n",
        "\n",
        "# For our model\n",
        "import torchvision.models as models\n",
        "from torchvision import datasets, transforms\n",
        "\n",
        "# For utilities\n",
        "import os, shutil, time"
      ],
      "execution_count": 9,
      "outputs": []
    },
    {
      "cell_type": "code",
      "metadata": {
        "id": "NxgD8Wh0lnW4"
      },
      "source": [
        "# Check if GPU is available\n",
        "use_gpu = torch.cuda.is_available()\n",
        "if use_gpu:\n",
        "  print('You are using GPU')"
      ],
      "execution_count": 10,
      "outputs": []
    },
    {
      "cell_type": "code",
      "metadata": {
        "id": "D3lMrRUylqN4"
      },
      "source": [
        "# NET CLASS\n",
        "class ColorizationNet(nn.Module):\n",
        "  def __init__(self, input_size=128):\n",
        "    super(ColorizationNet, self).__init__()\n",
        "    MIDLEVEL_FEATURE_SIZE = 128\n",
        "\n",
        "    ## First half: ResNet\n",
        "    resnet = models.resnet18(pretrained=True) #num_classes=365,\n",
        "    # Change first conv layer to accept single-channel (grayscale) input\n",
        "    resnet.conv1.weight = nn.Parameter(resnet.conv1.weight.sum(dim=1).unsqueeze(1)) \n",
        "    # Extract midlevel features from ResNet-gray\n",
        "    self.midlevel_resnet = nn.Sequential(*list(resnet.children())[0:6])\n",
        "\n",
        "    ## Second half: Upsampling\n",
        "    self.upsample = nn.Sequential(     \n",
        "      nn.Conv2d(MIDLEVEL_FEATURE_SIZE, 128, kernel_size=3, stride=1, padding=1),\n",
        "      nn.BatchNorm2d(128),\n",
        "      nn.ReLU(),\n",
        "      nn.Upsample(scale_factor=2),\n",
        "      nn.Conv2d(128, 64, kernel_size=3, stride=1, padding=1),\n",
        "      nn.BatchNorm2d(64),\n",
        "      nn.ReLU(),\n",
        "      nn.Conv2d(64, 64, kernel_size=3, stride=1, padding=1),\n",
        "      nn.BatchNorm2d(64),\n",
        "      nn.ReLU(),\n",
        "      nn.Upsample(scale_factor=2),\n",
        "      nn.Conv2d(64, 32, kernel_size=3, stride=1, padding=1),\n",
        "      nn.BatchNorm2d(32),\n",
        "      nn.ReLU(),\n",
        "      nn.Conv2d(32, 2, kernel_size=3, stride=1, padding=1),\n",
        "      nn.Upsample(scale_factor=2)\n",
        "    )\n",
        "\n",
        "  def forward(self, input):\n",
        "    # Pass input through ResNet-gray to extract features\n",
        "    midlevel_features = self.midlevel_resnet(input)\n",
        "\n",
        "    # Upsample to get colors\n",
        "    output = self.upsample(midlevel_features)\n",
        "    return output"
      ],
      "execution_count": 11,
      "outputs": []
    },
    {
      "cell_type": "code",
      "metadata": {
        "colab": {
          "base_uri": "https://localhost:8080/",
          "height": 84,
          "referenced_widgets": [
            "df2068a845854e3f9d12a8ae240841bd",
            "f7bcdfff72914139be89ebf0d144f067",
            "baa1712f87804fd0b6a98921d98f8e86",
            "68c6e26d8e854317b09ed9d01081e45c",
            "5ecdab0449894503ad840d21e7667817",
            "599af67e57424aa6b2f13d1ceb8322c9",
            "0d46f4f0f87e4c92a3ebb681c38fa76b",
            "3144e5da25724617854035eeb4a68ba1"
          ]
        },
        "id": "y4UHtdsTlsyA",
        "outputId": "37b97924-5499-4c6c-e5e1-79ac2f8a12dd"
      },
      "source": [
        "model = ColorizationNet()\n",
        "# You are downloading the first half pretrained ResNet"
      ],
      "execution_count": 12,
      "outputs": [
        {
          "output_type": "stream",
          "text": [
            "Downloading: \"https://download.pytorch.org/models/resnet18-f37072fd.pth\" to /root/.cache/torch/hub/checkpoints/resnet18-f37072fd.pth\n"
          ],
          "name": "stderr"
        },
        {
          "output_type": "display_data",
          "data": {
            "application/vnd.jupyter.widget-view+json": {
              "model_id": "df2068a845854e3f9d12a8ae240841bd",
              "version_minor": 0,
              "version_major": 2
            },
            "text/plain": [
              "HBox(children=(FloatProgress(value=0.0, max=46830571.0), HTML(value='')))"
            ]
          },
          "metadata": {
            "tags": []
          }
        },
        {
          "output_type": "stream",
          "text": [
            "\n"
          ],
          "name": "stdout"
        }
      ]
    },
    {
      "cell_type": "code",
      "metadata": {
        "id": "ufkt90tPlwGB"
      },
      "source": [
        "criterion = nn.MSELoss()"
      ],
      "execution_count": 13,
      "outputs": []
    },
    {
      "cell_type": "code",
      "metadata": {
        "id": "wbdkoDsxl1Zh"
      },
      "source": [
        "class GrayscaleImageFolder(datasets.ImageFolder):\n",
        "  '''Custom images folder, which converts images to grayscale before loading'''\n",
        "  def __getitem__(self, index):\n",
        "    path, target = self.imgs[index]\n",
        "    img = self.loader(path)\n",
        "    if self.transform is not None:\n",
        "      img_original = self.transform(img)\n",
        "      img_original = np.asarray(img_original)\n",
        "      img_lab = rgb2lab(img_original)\n",
        "      img_lab = (img_lab + 128) / 255\n",
        "      img_ab = img_lab[:, :, 1:3]\n",
        "      img_ab = torch.from_numpy(img_ab.transpose((2, 0, 1))).float()\n",
        "      img_original = rgb2gray(img_original)\n",
        "      img_original = torch.from_numpy(img_original).unsqueeze(0).float()\n",
        "    if self.target_transform is not None:\n",
        "      target = self.target_transform(target)\n",
        "    return img_original, img_ab, target\n",
        "\n",
        "# Next we define transforms for our training and validation data.\n",
        "\n",
        "# Training\n",
        "train_transforms = transforms.Compose([transforms.RandomResizedCrop(224), transforms.RandomHorizontalFlip()])\n",
        "train_imagefolder = GrayscaleImageFolder('images/train' , train_transforms)\n",
        "train_loader = torch.utils.data.DataLoader(train_imagefolder, batch_size=64, shuffle=True)\n",
        "\n",
        "# Validation \n",
        "val_transforms = transforms.Compose([transforms.Resize(256), transforms.CenterCrop(224)])\n",
        "val_imagefolder = GrayscaleImageFolder('images/val' , val_transforms)\n",
        "val_loader = torch.utils.data.DataLoader(val_imagefolder, batch_size=64, shuffle=False)"
      ],
      "execution_count": 14,
      "outputs": []
    },
    {
      "cell_type": "code",
      "metadata": {
        "id": "dKsfs4UGl5Pk"
      },
      "source": [
        "class AverageMeter(object):\n",
        "  '''A handy class from the PyTorch ImageNet tutorial''' \n",
        "  def __init__(self):\n",
        "    self.reset()\n",
        "  def reset(self):\n",
        "    self.val, self.avg, self.sum, self.count = 0, 0, 0, 0\n",
        "  def update(self, val, n=1):\n",
        "    self.val = val\n",
        "    self.sum += val * n\n",
        "    self.count += n\n",
        "    self.avg = self.sum / self.count\n",
        "\n",
        "def to_rgb(grayscale_input, ab_input, save_path=None, save_name=None):\n",
        "  '''Show/save rgb image from grayscale and ab channels\n",
        "     Input save_path in the form {'grayscale': '/path/', 'colorized': '/path/'}'''\n",
        "  plt.clf() # clear matplotlib \n",
        "  color_image = torch.cat((grayscale_input, ab_input), 0).numpy() # combine channels\n",
        "  color_image = color_image.transpose((1, 2, 0))  # rescale for matplotlib\n",
        "  color_image[:, :, 0:1] = color_image[:, :, 0:1] * 100\n",
        "  color_image[:, :, 1:3] = color_image[:, :, 1:3] * 255 - 128   \n",
        "  color_image = lab2rgb(color_image.astype(np.float64))\n",
        "  grayscale_input = grayscale_input.squeeze().numpy()\n",
        "  if save_path is not None and save_name is not None: \n",
        "    plt.imsave(arr=grayscale_input, fname='{}{}'.format(save_path['grayscale'], save_name), cmap='gray')\n",
        "    plt.imsave(arr=color_image, fname='{}{}'.format(save_path['colorized'], save_name))"
      ],
      "execution_count": 15,
      "outputs": []
    },
    {
      "cell_type": "code",
      "metadata": {
        "id": "eB9ZzEMVl69L"
      },
      "source": [
        "def validate(val_loader, model, criterion, save_images, epoch):\n",
        "  model.eval()\n",
        "\n",
        "  # Prepare value counters and timers\n",
        "  batch_time, data_time, losses = AverageMeter(), AverageMeter(), AverageMeter()\n",
        "\n",
        "  end = time.time()\n",
        "  already_saved_images = False\n",
        "  for i, (input_gray, input_ab, target) in enumerate(val_loader):\n",
        "    data_time.update(time.time() - end)\n",
        "\n",
        "    # Use GPU\n",
        "    if use_gpu: input_gray, input_ab, target = input_gray.cuda(), input_ab.cuda(), target.cuda()\n",
        "\n",
        "    # Run model and record loss\n",
        "    output_ab = model(input_gray) # throw away class predictions\n",
        "    loss = criterion(output_ab, input_ab)\n",
        "    losses.update(loss.item(), input_gray.size(0))\n",
        "\n",
        "    # Save images to file\n",
        "    if save_images and not already_saved_images:\n",
        "      already_saved_images = True\n",
        "      for j in range(min(len(output_ab), 10)): # save at most 5 images\n",
        "        save_path = {'grayscale': 'outputs/gray/', 'colorized': 'outputs/color/'}\n",
        "        save_name = 'img-{}-epoch-{}.jpg'.format(i * val_loader.batch_size + j, epoch)\n",
        "        to_rgb(input_gray[j].cpu(), ab_input=output_ab[j].detach().cpu(), save_path=save_path, save_name=save_name)\n",
        "\n",
        "    # Record time to do forward passes and save images\n",
        "    batch_time.update(time.time() - end)\n",
        "    end = time.time()\n",
        "\n",
        "    # Print model accuracy -- in the code below, val refers to both value and validation\n",
        "    if i % 25 == 0:\n",
        "      print('Validate: [{0}/{1}]\\t'\n",
        "            'Time {batch_time.val:.3f} ({batch_time.avg:.3f})\\t'\n",
        "            'Loss {loss.val:.4f} ({loss.avg:.4f})\\t'.format(\n",
        "             i, len(val_loader), batch_time=batch_time, loss=losses))\n",
        "\n",
        "  print('Finished validation.')\n",
        "  return losses.avg"
      ],
      "execution_count": 16,
      "outputs": []
    },
    {
      "cell_type": "code",
      "metadata": {
        "id": "5oIvRPBtl8zS"
      },
      "source": [
        "def train(train_loader, model, criterion, optimizer, epoch):\n",
        "  print('Starting training epoch {}'.format(epoch))\n",
        "  model.train()\n",
        "  \n",
        "  # Prepare value counters and timers\n",
        "  batch_time, data_time, losses = AverageMeter(), AverageMeter(), AverageMeter()\n",
        "\n",
        "  end = time.time()\n",
        "  for i, (input_gray, input_ab, target) in enumerate(train_loader):\n",
        "    \n",
        "    # Use GPU if available\n",
        "    if use_gpu: input_gray, input_ab, target = input_gray.cuda(), input_ab.cuda(), target.cuda()\n",
        "\n",
        "    # Record time to load data (above)\n",
        "    data_time.update(time.time() - end)\n",
        "\n",
        "    # Run forward pass\n",
        "    output_ab = model(input_gray) \n",
        "    loss = criterion(output_ab, input_ab) \n",
        "    losses.update(loss.item(), input_gray.size(0))\n",
        "\n",
        "    # Compute gradient and optimize\n",
        "    optimizer.zero_grad()\n",
        "    loss.backward()\n",
        "    optimizer.step()\n",
        "\n",
        "    # Record time to do forward and backward passes\n",
        "    batch_time.update(time.time() - end)\n",
        "    end = time.time()\n",
        "\n",
        "    # Print model accuracy -- in the code below, val refers to value, not validation\n",
        "    if i % 50 == 0:\n",
        "      print('Epoch: [{0}][{1}/{2}]\\t'\n",
        "            'Time {batch_time.val:.3f} ({batch_time.avg:.3f})\\t'\n",
        "            'Data {data_time.val:.3f} ({data_time.avg:.3f})\\t'\n",
        "            'Loss {loss.val:.4f} ({loss.avg:.4f})\\t'.format(\n",
        "              epoch, i, len(train_loader), batch_time=batch_time,\n",
        "             data_time=data_time, loss=losses)) \n",
        "\n",
        "  print('Finished training epoch {}'.format(epoch))"
      ],
      "execution_count": 17,
      "outputs": []
    },
    {
      "cell_type": "code",
      "metadata": {
        "id": "bXH21kgPl-VA"
      },
      "source": [
        "# Move model and loss function to GPU\n",
        "if use_gpu: \n",
        "  criterion = criterion.cuda()\n",
        "  model = model.cuda()"
      ],
      "execution_count": 18,
      "outputs": []
    },
    {
      "cell_type": "code",
      "metadata": {
        "id": "F9c1-JK8l_5r"
      },
      "source": [
        "# Make folders and set parameters\n",
        "os.makedirs('outputs/color', exist_ok=True)\n",
        "os.makedirs('outputs/gray', exist_ok=True)\n",
        "os.makedirs('checkpoints', exist_ok=True)\n",
        "save_images = True\n",
        "best_losses = 2e2"
      ],
      "execution_count": 19,
      "outputs": []
    },
    {
      "cell_type": "code",
      "metadata": {
        "colab": {
          "base_uri": "https://localhost:8080/",
          "height": 1000
        },
        "id": "iO3_THFPmBk3",
        "outputId": "75acbe64-3ef3-44c4-e741-ed35df82bb4b"
      },
      "source": [
        "# Train model\n",
        "epochs = 50\n",
        "loss_arr = []\n",
        "\n",
        "for epoch in range(epochs):\n",
        "  optimizer = torch.optim.Adam(model.parameters(), lr=2e-5, weight_decay=.0)\n",
        "  # Train for one epoch, then validate\n",
        "  train(train_loader, model, criterion, optimizer, epoch)\n",
        "  with torch.no_grad():\n",
        "    losses = validate(val_loader, model, criterion, save_images, epoch)\n",
        "    loss_arr.append(losses)\n",
        "  #Save checkpoint and replace old best model if current model is better\n",
        "  if losses < best_losses:\n",
        "    best_losses = losses\n",
        "    torch.save(model.state_dict(), 'checkpoints/model-epoch-{}-losses-{:.3f}.pth'.format(epoch+1,losses))"
      ],
      "execution_count": 20,
      "outputs": [
        {
          "output_type": "stream",
          "text": [
            "Starting training epoch 0\n"
          ],
          "name": "stdout"
        },
        {
          "output_type": "stream",
          "text": [
            "/usr/local/lib/python3.7/dist-packages/torch/nn/functional.py:718: UserWarning: Named tensors and all their associated APIs are an experimental feature and subject to change. Please do not use them for anything important until they are released as stable. (Triggered internally at  /pytorch/c10/core/TensorImpl.h:1156.)\n",
            "  return torch.max_pool2d(input, kernel_size, stride, padding, dilation, ceil_mode)\n"
          ],
          "name": "stderr"
        },
        {
          "output_type": "stream",
          "text": [
            "Epoch: [0][0/8]\tTime 17.692 (17.692)\tData 1.805 (1.805)\tLoss 0.6494 (0.6494)\t\n"
          ],
          "name": "stdout"
        },
        {
          "output_type": "stream",
          "text": [
            "ERROR:root:Internal Python error in the inspect module.\n",
            "Below is the traceback from this internal error.\n",
            "\n"
          ],
          "name": "stderr"
        },
        {
          "output_type": "stream",
          "text": [
            "Traceback (most recent call last):\n",
            "  File \"/usr/local/lib/python3.7/dist-packages/IPython/core/interactiveshell.py\", line 2882, in run_code\n",
            "    exec(code_obj, self.user_global_ns, self.user_ns)\n",
            "  File \"<ipython-input-20-ac648b073f72>\", line 8, in <module>\n",
            "    train(train_loader, model, criterion, optimizer, epoch)\n",
            "  File \"<ipython-input-17-1206982078b1>\", line 18, in train\n",
            "    output_ab = model(input_gray)\n",
            "  File \"/usr/local/lib/python3.7/dist-packages/torch/nn/modules/module.py\", line 1051, in _call_impl\n",
            "    return forward_call(*input, **kwargs)\n",
            "  File \"<ipython-input-11-db2c04181e2b>\", line 39, in forward\n",
            "    output = self.upsample(midlevel_features)\n",
            "  File \"/usr/local/lib/python3.7/dist-packages/torch/nn/modules/module.py\", line 1051, in _call_impl\n",
            "    return forward_call(*input, **kwargs)\n",
            "  File \"/usr/local/lib/python3.7/dist-packages/torch/nn/modules/container.py\", line 139, in forward\n",
            "    input = module(input)\n",
            "  File \"/usr/local/lib/python3.7/dist-packages/torch/nn/modules/module.py\", line 1051, in _call_impl\n",
            "    return forward_call(*input, **kwargs)\n",
            "  File \"/usr/local/lib/python3.7/dist-packages/torch/nn/modules/conv.py\", line 443, in forward\n",
            "    return self._conv_forward(input, self.weight, self.bias)\n",
            "  File \"/usr/local/lib/python3.7/dist-packages/torch/nn/modules/conv.py\", line 440, in _conv_forward\n",
            "    self.padding, self.dilation, self.groups)\n",
            "KeyboardInterrupt\n",
            "\n",
            "During handling of the above exception, another exception occurred:\n",
            "\n",
            "Traceback (most recent call last):\n",
            "  File \"/usr/local/lib/python3.7/dist-packages/IPython/core/interactiveshell.py\", line 1823, in showtraceback\n",
            "    stb = value._render_traceback_()\n",
            "AttributeError: 'KeyboardInterrupt' object has no attribute '_render_traceback_'\n",
            "\n",
            "During handling of the above exception, another exception occurred:\n",
            "\n",
            "Traceback (most recent call last):\n",
            "  File \"/usr/local/lib/python3.7/dist-packages/IPython/core/ultratb.py\", line 1132, in get_records\n",
            "    return _fixed_getinnerframes(etb, number_of_lines_of_context, tb_offset)\n",
            "  File \"/usr/local/lib/python3.7/dist-packages/IPython/core/ultratb.py\", line 313, in wrapped\n",
            "    return f(*args, **kwargs)\n",
            "  File \"/usr/local/lib/python3.7/dist-packages/IPython/core/ultratb.py\", line 358, in _fixed_getinnerframes\n",
            "    records = fix_frame_records_filenames(inspect.getinnerframes(etb, context))\n",
            "  File \"/usr/lib/python3.7/inspect.py\", line 1502, in getinnerframes\n",
            "    frameinfo = (tb.tb_frame,) + getframeinfo(tb, context)\n",
            "  File \"/usr/lib/python3.7/inspect.py\", line 1460, in getframeinfo\n",
            "    filename = getsourcefile(frame) or getfile(frame)\n",
            "  File \"/usr/lib/python3.7/inspect.py\", line 696, in getsourcefile\n",
            "    if getattr(getmodule(object, filename), '__loader__', None) is not None:\n",
            "  File \"/usr/lib/python3.7/inspect.py\", line 742, in getmodule\n",
            "    os.path.realpath(f)] = module.__name__\n",
            "  File \"/usr/lib/python3.7/posixpath.py\", line 395, in realpath\n",
            "    path, ok = _joinrealpath(filename[:0], filename, {})\n",
            "  File \"/usr/lib/python3.7/posixpath.py\", line 429, in _joinrealpath\n",
            "    if not islink(newpath):\n",
            "  File \"/usr/lib/python3.7/posixpath.py\", line 171, in islink\n",
            "    st = os.lstat(path)\n",
            "KeyboardInterrupt\n"
          ],
          "name": "stdout"
        },
        {
          "output_type": "error",
          "ename": "KeyboardInterrupt",
          "evalue": "ignored",
          "traceback": [
            "\u001b[0;31m---------------------------------------------------------------------------\u001b[0m"
          ]
        }
      ]
    },
    {
      "cell_type": "code",
      "metadata": {
        "id": "4WoRxDkFRYCq"
      },
      "source": [
        "plt.plot(np.arange(epochs),loss_arr,'o-')"
      ],
      "execution_count": null,
      "outputs": []
    },
    {
      "cell_type": "code",
      "metadata": {
        "id": "otssQEFn5YfM"
      },
      "source": [
        "torch.save(model.state_dict(), '/content/model.pth')"
      ],
      "execution_count": null,
      "outputs": []
    },
    {
      "cell_type": "code",
      "metadata": {
        "id": "wPYwK_7XqXFp"
      },
      "source": [
        "# Load model\n",
        "pretrained = torch.load('/content/model.pth')\n",
        "model.load_state_dict(pretrained)"
      ],
      "execution_count": null,
      "outputs": []
    },
    {
      "cell_type": "code",
      "metadata": {
        "id": "OT9z1DjHqYg0"
      },
      "source": [
        "# Validate\n",
        "save_images = True\n",
        "with torch.no_grad():\n",
        "  validate(val_loader, model, criterion, save_images, 0)"
      ],
      "execution_count": null,
      "outputs": []
    },
    {
      "cell_type": "code",
      "metadata": {
        "id": "eKURPGrimTmK"
      },
      "source": [
        "# Show images \n",
        "import matplotlib.image as mpimg\n",
        "image_pairs = [('outputs/color/img-4-epoch-'+str(epochs - 1)+'.jpg', 'outputs/gray/img-4-epoch-'+str(epochs - 1)+'.jpg'),\n",
        "               ('outputs/color/img-5-epoch-'+str(epochs - 1)+'.jpg', 'outputs/gray/img-5-epoch-'+str(epochs - 1)+'.jpg')]\n",
        "for c, g in image_pairs:\n",
        "  color = mpimg.imread(c)\n",
        "  gray  = mpimg.imread(g)\n",
        "  f, axarr = plt.subplots(1, 2)\n",
        "  f.set_size_inches(15, 15)\n",
        "  axarr[0].imshow(gray, cmap='gray')\n",
        "  axarr[1].imshow(color)\n",
        "  axarr[0].axis('off'), axarr[1].axis('off')\n",
        "  plt.show()"
      ],
      "execution_count": null,
      "outputs": []
    },
    {
      "cell_type": "code",
      "metadata": {
        "id": "gkap3D5KGeLR"
      },
      "source": [
        "import cv2\n",
        "from google.colab.patches import cv2_imshow\n",
        "image_orig = cv2.imread('/content/outputs/gray/img-9-epoch-'+str(epochs - 1)+'.jpg')\n",
        "image = cv2.imread('/content/outputs/color/img-9-epoch-'+str(epochs - 1)+'.jpg')\n",
        "\n",
        "alpha = 1.5 # Contrast control (1.0-3.0)\n",
        "#beta = 0 # Brightness control (0-100)\n",
        "\n",
        "adjusted = cv2.convertScaleAbs(image, alpha=1.5, beta=0)\n",
        "w,h = 300,300\n",
        "image_orig = cv2.resize(image_orig, (w,h))  #resize images\n",
        "image = cv2.resize(image, (w,h))\n",
        "adjusted = cv2.resize(adjusted, (w,h))\n",
        "\n",
        "cv2_imshow(image_orig)\n",
        "cv2_imshow(image)\n",
        "cv2_imshow(adjusted)\n",
        "#cv2.waitKey()"
      ],
      "execution_count": null,
      "outputs": []
    }
  ]
}