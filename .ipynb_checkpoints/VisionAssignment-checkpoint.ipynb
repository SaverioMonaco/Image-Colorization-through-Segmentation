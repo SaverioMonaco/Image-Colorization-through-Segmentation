{
  "nbformat": 4,
  "nbformat_minor": 0,
  "metadata": {
    "colab": {
      "name": "VisionAssignment.ipynb",
      "provenance": [],
      "collapsed_sections": []
    },
    "kernelspec": {
      "name": "python3",
      "display_name": "Python 3"
    },
    "language_info": {
      "name": "python"
    },
    "accelerator": "GPU",
    "widgets": {
      "application/vnd.jupyter.widget-state+json": {
        "8e384a37eb6244b5bfbccc61c62e709f": {
          "model_module": "@jupyter-widgets/controls",
          "model_name": "HBoxModel",
          "state": {
            "_view_name": "HBoxView",
            "_dom_classes": [],
            "_model_name": "HBoxModel",
            "_view_module": "@jupyter-widgets/controls",
            "_model_module_version": "1.5.0",
            "_view_count": null,
            "_view_module_version": "1.5.0",
            "box_style": "",
            "layout": "IPY_MODEL_e853e465e19e4b1d8e8387ab66082020",
            "_model_module": "@jupyter-widgets/controls",
            "children": [
              "IPY_MODEL_91648f160729487eb12c769ea481751e",
              "IPY_MODEL_b2049e66e4214b31ab6bd552a777c2e8"
            ]
          }
        },
        "e853e465e19e4b1d8e8387ab66082020": {
          "model_module": "@jupyter-widgets/base",
          "model_name": "LayoutModel",
          "state": {
            "_view_name": "LayoutView",
            "grid_template_rows": null,
            "right": null,
            "justify_content": null,
            "_view_module": "@jupyter-widgets/base",
            "overflow": null,
            "_model_module_version": "1.2.0",
            "_view_count": null,
            "flex_flow": null,
            "width": null,
            "min_width": null,
            "border": null,
            "align_items": null,
            "bottom": null,
            "_model_module": "@jupyter-widgets/base",
            "top": null,
            "grid_column": null,
            "overflow_y": null,
            "overflow_x": null,
            "grid_auto_flow": null,
            "grid_area": null,
            "grid_template_columns": null,
            "flex": null,
            "_model_name": "LayoutModel",
            "justify_items": null,
            "grid_row": null,
            "max_height": null,
            "align_content": null,
            "visibility": null,
            "align_self": null,
            "height": null,
            "min_height": null,
            "padding": null,
            "grid_auto_rows": null,
            "grid_gap": null,
            "max_width": null,
            "order": null,
            "_view_module_version": "1.2.0",
            "grid_template_areas": null,
            "object_position": null,
            "object_fit": null,
            "grid_auto_columns": null,
            "margin": null,
            "display": null,
            "left": null
          }
        },
        "91648f160729487eb12c769ea481751e": {
          "model_module": "@jupyter-widgets/controls",
          "model_name": "FloatProgressModel",
          "state": {
            "_view_name": "ProgressView",
            "style": "IPY_MODEL_fb257cb5acbc4764844b82d79c95650a",
            "_dom_classes": [],
            "description": "",
            "_model_name": "FloatProgressModel",
            "bar_style": "success",
            "max": 170498071,
            "_view_module": "@jupyter-widgets/controls",
            "_model_module_version": "1.5.0",
            "value": 170498071,
            "_view_count": null,
            "_view_module_version": "1.5.0",
            "orientation": "horizontal",
            "min": 0,
            "description_tooltip": null,
            "_model_module": "@jupyter-widgets/controls",
            "layout": "IPY_MODEL_1112160a855c4a379a0fcf9692804566"
          }
        },
        "b2049e66e4214b31ab6bd552a777c2e8": {
          "model_module": "@jupyter-widgets/controls",
          "model_name": "HTMLModel",
          "state": {
            "_view_name": "HTMLView",
            "style": "IPY_MODEL_7d3ae05c007f4b908ef585072804ddbb",
            "_dom_classes": [],
            "description": "",
            "_model_name": "HTMLModel",
            "placeholder": "​",
            "_view_module": "@jupyter-widgets/controls",
            "_model_module_version": "1.5.0",
            "value": " 170499072/? [20:08&lt;00:00, 141080.22it/s]",
            "_view_count": null,
            "_view_module_version": "1.5.0",
            "description_tooltip": null,
            "_model_module": "@jupyter-widgets/controls",
            "layout": "IPY_MODEL_efa4dff355724a16893f9d9e3d53475b"
          }
        },
        "fb257cb5acbc4764844b82d79c95650a": {
          "model_module": "@jupyter-widgets/controls",
          "model_name": "ProgressStyleModel",
          "state": {
            "_view_name": "StyleView",
            "_model_name": "ProgressStyleModel",
            "description_width": "initial",
            "_view_module": "@jupyter-widgets/base",
            "_model_module_version": "1.5.0",
            "_view_count": null,
            "_view_module_version": "1.2.0",
            "bar_color": null,
            "_model_module": "@jupyter-widgets/controls"
          }
        },
        "1112160a855c4a379a0fcf9692804566": {
          "model_module": "@jupyter-widgets/base",
          "model_name": "LayoutModel",
          "state": {
            "_view_name": "LayoutView",
            "grid_template_rows": null,
            "right": null,
            "justify_content": null,
            "_view_module": "@jupyter-widgets/base",
            "overflow": null,
            "_model_module_version": "1.2.0",
            "_view_count": null,
            "flex_flow": null,
            "width": null,
            "min_width": null,
            "border": null,
            "align_items": null,
            "bottom": null,
            "_model_module": "@jupyter-widgets/base",
            "top": null,
            "grid_column": null,
            "overflow_y": null,
            "overflow_x": null,
            "grid_auto_flow": null,
            "grid_area": null,
            "grid_template_columns": null,
            "flex": null,
            "_model_name": "LayoutModel",
            "justify_items": null,
            "grid_row": null,
            "max_height": null,
            "align_content": null,
            "visibility": null,
            "align_self": null,
            "height": null,
            "min_height": null,
            "padding": null,
            "grid_auto_rows": null,
            "grid_gap": null,
            "max_width": null,
            "order": null,
            "_view_module_version": "1.2.0",
            "grid_template_areas": null,
            "object_position": null,
            "object_fit": null,
            "grid_auto_columns": null,
            "margin": null,
            "display": null,
            "left": null
          }
        },
        "7d3ae05c007f4b908ef585072804ddbb": {
          "model_module": "@jupyter-widgets/controls",
          "model_name": "DescriptionStyleModel",
          "state": {
            "_view_name": "StyleView",
            "_model_name": "DescriptionStyleModel",
            "description_width": "",
            "_view_module": "@jupyter-widgets/base",
            "_model_module_version": "1.5.0",
            "_view_count": null,
            "_view_module_version": "1.2.0",
            "_model_module": "@jupyter-widgets/controls"
          }
        },
        "efa4dff355724a16893f9d9e3d53475b": {
          "model_module": "@jupyter-widgets/base",
          "model_name": "LayoutModel",
          "state": {
            "_view_name": "LayoutView",
            "grid_template_rows": null,
            "right": null,
            "justify_content": null,
            "_view_module": "@jupyter-widgets/base",
            "overflow": null,
            "_model_module_version": "1.2.0",
            "_view_count": null,
            "flex_flow": null,
            "width": null,
            "min_width": null,
            "border": null,
            "align_items": null,
            "bottom": null,
            "_model_module": "@jupyter-widgets/base",
            "top": null,
            "grid_column": null,
            "overflow_y": null,
            "overflow_x": null,
            "grid_auto_flow": null,
            "grid_area": null,
            "grid_template_columns": null,
            "flex": null,
            "_model_name": "LayoutModel",
            "justify_items": null,
            "grid_row": null,
            "max_height": null,
            "align_content": null,
            "visibility": null,
            "align_self": null,
            "height": null,
            "min_height": null,
            "padding": null,
            "grid_auto_rows": null,
            "grid_gap": null,
            "max_width": null,
            "order": null,
            "_view_module_version": "1.2.0",
            "grid_template_areas": null,
            "object_position": null,
            "object_fit": null,
            "grid_auto_columns": null,
            "margin": null,
            "display": null,
            "left": null
          }
        },
        "db84d2f6e63f4f2cbb230240011f2a76": {
          "model_module": "@jupyter-widgets/controls",
          "model_name": "HBoxModel",
          "state": {
            "_view_name": "HBoxView",
            "_dom_classes": [],
            "_model_name": "HBoxModel",
            "_view_module": "@jupyter-widgets/controls",
            "_model_module_version": "1.5.0",
            "_view_count": null,
            "_view_module_version": "1.5.0",
            "box_style": "",
            "layout": "IPY_MODEL_7e1b2002e24848949d15eb9e38649dd3",
            "_model_module": "@jupyter-widgets/controls",
            "children": [
              "IPY_MODEL_33edb4102a324e878629bdf32d09e401",
              "IPY_MODEL_a05b58ffe38a4b76ba980890cd310635"
            ]
          }
        },
        "7e1b2002e24848949d15eb9e38649dd3": {
          "model_module": "@jupyter-widgets/base",
          "model_name": "LayoutModel",
          "state": {
            "_view_name": "LayoutView",
            "grid_template_rows": null,
            "right": null,
            "justify_content": null,
            "_view_module": "@jupyter-widgets/base",
            "overflow": null,
            "_model_module_version": "1.2.0",
            "_view_count": null,
            "flex_flow": null,
            "width": null,
            "min_width": null,
            "border": null,
            "align_items": null,
            "bottom": null,
            "_model_module": "@jupyter-widgets/base",
            "top": null,
            "grid_column": null,
            "overflow_y": null,
            "overflow_x": null,
            "grid_auto_flow": null,
            "grid_area": null,
            "grid_template_columns": null,
            "flex": null,
            "_model_name": "LayoutModel",
            "justify_items": null,
            "grid_row": null,
            "max_height": null,
            "align_content": null,
            "visibility": null,
            "align_self": null,
            "height": null,
            "min_height": null,
            "padding": null,
            "grid_auto_rows": null,
            "grid_gap": null,
            "max_width": null,
            "order": null,
            "_view_module_version": "1.2.0",
            "grid_template_areas": null,
            "object_position": null,
            "object_fit": null,
            "grid_auto_columns": null,
            "margin": null,
            "display": null,
            "left": null
          }
        },
        "33edb4102a324e878629bdf32d09e401": {
          "model_module": "@jupyter-widgets/controls",
          "model_name": "FloatProgressModel",
          "state": {
            "_view_name": "ProgressView",
            "style": "IPY_MODEL_0666bf2e63a44c679221f405cfecbb52",
            "_dom_classes": [],
            "description": "100%",
            "_model_name": "FloatProgressModel",
            "bar_style": "success",
            "max": 87306240,
            "_view_module": "@jupyter-widgets/controls",
            "_model_module_version": "1.5.0",
            "value": 87306240,
            "_view_count": null,
            "_view_module_version": "1.5.0",
            "orientation": "horizontal",
            "min": 0,
            "description_tooltip": null,
            "_model_module": "@jupyter-widgets/controls",
            "layout": "IPY_MODEL_dfe93ea6ddcd4baca17ab3053d0ee242"
          }
        },
        "a05b58ffe38a4b76ba980890cd310635": {
          "model_module": "@jupyter-widgets/controls",
          "model_name": "HTMLModel",
          "state": {
            "_view_name": "HTMLView",
            "style": "IPY_MODEL_e5244c985503409aab46ee4ec920e55c",
            "_dom_classes": [],
            "description": "",
            "_model_name": "HTMLModel",
            "placeholder": "​",
            "_view_module": "@jupyter-widgets/controls",
            "_model_module_version": "1.5.0",
            "value": " 83.3M/83.3M [00:02&lt;00:00, 36.3MB/s]",
            "_view_count": null,
            "_view_module_version": "1.5.0",
            "description_tooltip": null,
            "_model_module": "@jupyter-widgets/controls",
            "layout": "IPY_MODEL_f5e8467ea55842a38533097f0db1b5b3"
          }
        },
        "0666bf2e63a44c679221f405cfecbb52": {
          "model_module": "@jupyter-widgets/controls",
          "model_name": "ProgressStyleModel",
          "state": {
            "_view_name": "StyleView",
            "_model_name": "ProgressStyleModel",
            "description_width": "initial",
            "_view_module": "@jupyter-widgets/base",
            "_model_module_version": "1.5.0",
            "_view_count": null,
            "_view_module_version": "1.2.0",
            "bar_color": null,
            "_model_module": "@jupyter-widgets/controls"
          }
        },
        "dfe93ea6ddcd4baca17ab3053d0ee242": {
          "model_module": "@jupyter-widgets/base",
          "model_name": "LayoutModel",
          "state": {
            "_view_name": "LayoutView",
            "grid_template_rows": null,
            "right": null,
            "justify_content": null,
            "_view_module": "@jupyter-widgets/base",
            "overflow": null,
            "_model_module_version": "1.2.0",
            "_view_count": null,
            "flex_flow": null,
            "width": null,
            "min_width": null,
            "border": null,
            "align_items": null,
            "bottom": null,
            "_model_module": "@jupyter-widgets/base",
            "top": null,
            "grid_column": null,
            "overflow_y": null,
            "overflow_x": null,
            "grid_auto_flow": null,
            "grid_area": null,
            "grid_template_columns": null,
            "flex": null,
            "_model_name": "LayoutModel",
            "justify_items": null,
            "grid_row": null,
            "max_height": null,
            "align_content": null,
            "visibility": null,
            "align_self": null,
            "height": null,
            "min_height": null,
            "padding": null,
            "grid_auto_rows": null,
            "grid_gap": null,
            "max_width": null,
            "order": null,
            "_view_module_version": "1.2.0",
            "grid_template_areas": null,
            "object_position": null,
            "object_fit": null,
            "grid_auto_columns": null,
            "margin": null,
            "display": null,
            "left": null
          }
        },
        "e5244c985503409aab46ee4ec920e55c": {
          "model_module": "@jupyter-widgets/controls",
          "model_name": "DescriptionStyleModel",
          "state": {
            "_view_name": "StyleView",
            "_model_name": "DescriptionStyleModel",
            "description_width": "",
            "_view_module": "@jupyter-widgets/base",
            "_model_module_version": "1.5.0",
            "_view_count": null,
            "_view_module_version": "1.2.0",
            "_model_module": "@jupyter-widgets/controls"
          }
        },
        "f5e8467ea55842a38533097f0db1b5b3": {
          "model_module": "@jupyter-widgets/base",
          "model_name": "LayoutModel",
          "state": {
            "_view_name": "LayoutView",
            "grid_template_rows": null,
            "right": null,
            "justify_content": null,
            "_view_module": "@jupyter-widgets/base",
            "overflow": null,
            "_model_module_version": "1.2.0",
            "_view_count": null,
            "flex_flow": null,
            "width": null,
            "min_width": null,
            "border": null,
            "align_items": null,
            "bottom": null,
            "_model_module": "@jupyter-widgets/base",
            "top": null,
            "grid_column": null,
            "overflow_y": null,
            "overflow_x": null,
            "grid_auto_flow": null,
            "grid_area": null,
            "grid_template_columns": null,
            "flex": null,
            "_model_name": "LayoutModel",
            "justify_items": null,
            "grid_row": null,
            "max_height": null,
            "align_content": null,
            "visibility": null,
            "align_self": null,
            "height": null,
            "min_height": null,
            "padding": null,
            "grid_auto_rows": null,
            "grid_gap": null,
            "max_width": null,
            "order": null,
            "_view_module_version": "1.2.0",
            "grid_template_areas": null,
            "object_position": null,
            "object_fit": null,
            "grid_auto_columns": null,
            "margin": null,
            "display": null,
            "left": null
          }
        }
      }
    }
  },
  "cells": [
    {
      "cell_type": "markdown",
      "metadata": {
        "id": "q8uhBox3Pu8E"
      },
      "source": [
        "# Assignment CNN"
      ]
    },
    {
      "cell_type": "code",
      "metadata": {
        "id": "VJe83WOsPyhZ"
      },
      "source": [
        "# Pytorch functions\n",
        "import torch\n",
        "# Neural network layers\n",
        "import torch.nn as nn\n",
        "import torch.nn.functional as F\n",
        "# Optimizer\n",
        "import torch.optim as optim\n",
        "# Handling dataset\n",
        "import torch.utils.data as data\n",
        "# Torchvision library\n",
        "import torchvision\n",
        "import torchvision.transforms as transforms\n",
        "from torch.optim import lr_scheduler\n",
        "# For results\n",
        "from sklearn.metrics import confusion_matrix\n",
        "from sklearn.metrics import classification_report\n",
        "import gc\n",
        "\n",
        "import matplotlib.pyplot as plt\n",
        "import numpy as np\n",
        "import copy, time, os, cv2"
      ],
      "execution_count": 1,
      "outputs": []
    },
    {
      "cell_type": "code",
      "metadata": {
        "id": "izIGsI6XQ5Vk"
      },
      "source": [
        "SEED = 123\n",
        "np.random.seed(SEED)\n",
        "torch.manual_seed(SEED)\n",
        "torch.cuda.manual_seed(SEED)\n",
        "torch.backends.cudnn.deterministic = True"
      ],
      "execution_count": 2,
      "outputs": []
    },
    {
      "cell_type": "code",
      "metadata": {
        "id": "7EjrwGqcRm6q"
      },
      "source": [
        "'''We define the transformations that will be applied when loading training and test set'''\n",
        "\n",
        "train_transforms = transforms.Compose([\n",
        "                   transforms.Resize((224,224)),\n",
        "                   transforms.RandomHorizontalFlip(),\n",
        "                   transforms.RandomPerspective(distortion_scale=0.5, p=0.3, fill=0),\n",
        "                   transforms.RandomApply(torch.nn.ModuleList([transforms.ColorJitter(),]), p=0.3),\n",
        "                   transforms.ToTensor(),\n",
        "                   transforms.Normalize([0.485, 0.456, 0.406], [0.229, 0.224, 0.225])\n",
        "])\n",
        "\n",
        "test_transforms = transforms.Compose([\n",
        "                  transforms.Resize((224,224)),\n",
        "                  transforms.Resize(256),\n",
        "                  transforms.ToTensor(),\n",
        "                  transforms.Normalize([0.485, 0.456, 0.406], [0.229, 0.224, 0.225]) \n",
        "])"
      ],
      "execution_count": 3,
      "outputs": []
    },
    {
      "cell_type": "code",
      "metadata": {
        "id": "veein2BFVDaT"
      },
      "source": [
        "def plot_imgandlab():\n",
        "  img = train_data.data[i] # Unnormalized images\n",
        "  label = train_data[i][1]"
      ],
      "execution_count": 4,
      "outputs": []
    },
    {
      "cell_type": "code",
      "metadata": {
        "colab": {
          "base_uri": "https://localhost:8080/",
          "height": 118,
          "referenced_widgets": [
            "8e384a37eb6244b5bfbccc61c62e709f",
            "e853e465e19e4b1d8e8387ab66082020",
            "91648f160729487eb12c769ea481751e",
            "b2049e66e4214b31ab6bd552a777c2e8",
            "fb257cb5acbc4764844b82d79c95650a",
            "1112160a855c4a379a0fcf9692804566",
            "7d3ae05c007f4b908ef585072804ddbb",
            "efa4dff355724a16893f9d9e3d53475b"
          ]
        },
        "id": "xjN3HaI0TDDa",
        "outputId": "836d4140-885b-444d-fb21-c387a0dd1bc1"
      },
      "source": [
        "ROOT = './data'\n",
        "\n",
        "train_data = torchvision.datasets.CIFAR10(root=ROOT,\n",
        "                                          train=True,\n",
        "                                          download=True,\n",
        "                                          transform=train_transforms)\n",
        "\n",
        "test_data = torchvision.datasets.CIFAR10(root=ROOT,\n",
        "                                         train=False,\n",
        "                                         download=True,\n",
        "                                         transform=test_transforms)"
      ],
      "execution_count": 5,
      "outputs": [
        {
          "output_type": "stream",
          "text": [
            "Downloading https://www.cs.toronto.edu/~kriz/cifar-10-python.tar.gz to ./data/cifar-10-python.tar.gz\n"
          ],
          "name": "stdout"
        },
        {
          "output_type": "display_data",
          "data": {
            "application/vnd.jupyter.widget-view+json": {
              "model_id": "8e384a37eb6244b5bfbccc61c62e709f",
              "version_minor": 0,
              "version_major": 2
            },
            "text/plain": [
              "HBox(children=(FloatProgress(value=0.0, max=170498071.0), HTML(value='')))"
            ]
          },
          "metadata": {
            "tags": []
          }
        },
        {
          "output_type": "stream",
          "text": [
            "\n",
            "Extracting ./data/cifar-10-python.tar.gz to ./data\n",
            "Files already downloaded and verified\n"
          ],
          "name": "stdout"
        }
      ]
    },
    {
      "cell_type": "code",
      "metadata": {
        "id": "ZlkWUTpR99de"
      },
      "source": [
        "class CNN(nn.Module):\n",
        "  def __init__(self, layers):\n",
        "    super().__init__()\n",
        "    self.model = torchvision.models.resnet34(pretrained=True)\n",
        "    self.model.fc = nn.Sequential(*layers)\n",
        "\n",
        "    \n",
        "  def forward(self, x):\n",
        "    batch_size = x.shape[0]\n",
        "    # Flatten x\n",
        "    x = x.view(batch_size, -1)\n",
        "    y = self.linear_layers(x)\n",
        "    return y\n",
        "  \n",
        "  def count_parameters(self, info=False):\n",
        "    nparams = sum(p.numel() for p in self.parameters() if p.requires_grad)\n",
        "    if info:\n",
        "      print(\"The model has\",nparams,\"trainable parameters.\")\n",
        "    return nparams"
      ],
      "execution_count": 6,
      "outputs": []
    },
    {
      "cell_type": "code",
      "metadata": {
        "id": "YN_eBP_vA4zK"
      },
      "source": [
        "def create_validation_set(train_data, train_percentage, test_transforms):\n",
        "  num_train_examples = int(len(train_data) * train_percentage)\n",
        "  num_valid_examples = len(train_data) - num_train_examples\n",
        "\n",
        "  train_data, valid_data = data.random_split(train_data, [num_train_examples, num_valid_examples])\n",
        "\n",
        "  print(f\"Number training examples: {len(train_data)}\")\n",
        "  print(f\"Number validation examples: {len(valid_data)}\")\n",
        "\n",
        "  valid_data = copy.deepcopy(valid_data)\n",
        "  valid_data.dataset.transform = test_transforms\n",
        "\n",
        "  return valid_data"
      ],
      "execution_count": 7,
      "outputs": []
    },
    {
      "cell_type": "code",
      "metadata": {
        "colab": {
          "base_uri": "https://localhost:8080/"
        },
        "id": "Y_t7-4J1AvpB",
        "outputId": "f9e7f5f9-b228-46a0-c904-30f35e951020"
      },
      "source": [
        "valid_data=create_validation_set(train_data,0.8,test_transforms)"
      ],
      "execution_count": 8,
      "outputs": [
        {
          "output_type": "stream",
          "text": [
            "Number training examples: 40000\n",
            "Number validation examples: 10000\n"
          ],
          "name": "stdout"
        }
      ]
    },
    {
      "cell_type": "code",
      "metadata": {
        "colab": {
          "base_uri": "https://localhost:8080/",
          "height": 101,
          "referenced_widgets": [
            "db84d2f6e63f4f2cbb230240011f2a76",
            "7e1b2002e24848949d15eb9e38649dd3",
            "33edb4102a324e878629bdf32d09e401",
            "a05b58ffe38a4b76ba980890cd310635",
            "0666bf2e63a44c679221f405cfecbb52",
            "dfe93ea6ddcd4baca17ab3053d0ee242",
            "e5244c985503409aab46ee4ec920e55c",
            "f5e8467ea55842a38533097f0db1b5b3"
          ]
        },
        "id": "zm6iHZXL-D23",
        "outputId": "b9ca6779-55fe-496f-da14-00be2c237901"
      },
      "source": [
        "INPUT_DIM = 224*224*3\n",
        "OUTPUT_DIM = 10 # 10 classes\n",
        "\n",
        "layers = [nn.Linear(in_features=512,out_features=512,bias=True),\n",
        "          nn.ReLU(),\n",
        "          nn.BatchNorm1d(512,eps=1e-05,momentum=0.1,affine=True,track_running_stats=True),\n",
        "          nn.Dropout(p=0.3),\n",
        "          nn.Linear(in_features=512,out_features=300,bias=True),\n",
        "          nn.ReLU(),\n",
        "          nn.BatchNorm1d(300,eps=1e-05,momentum=0.1,affine=True,track_running_stats=True),\n",
        "          nn.Dropout(p=0.2),\n",
        "          nn.Linear(in_features=300,out_features=OUTPUT_DIM)\n",
        "]\n",
        "#layers = [nn.Linear(in_features=512,out_features=512,bias=True),nn.Dropout(p=0.2),nn.Linear(in_features=512,out_features=OUTPUT_DIM)]\n",
        "\n",
        "myCNN = CNN(layers)\n",
        "myCNN.count_parameters(info=True)\n",
        "\n",
        "# Create iterators\n",
        "BATCH_SIZE = 256\n",
        "\n",
        "train_iterator = torch.utils.data.DataLoader(train_data, \n",
        "                                             shuffle=True, \n",
        "                                             batch_size=BATCH_SIZE)\n",
        "\n",
        "valid_iterator = torch.utils.data.DataLoader(valid_data, \n",
        "                                             batch_size=BATCH_SIZE)\n",
        "\n",
        "test_iterator = torch.utils.data.DataLoader(test_data, \n",
        "                                            batch_size=BATCH_SIZE)"
      ],
      "execution_count": 9,
      "outputs": [
        {
          "output_type": "stream",
          "text": [
            "Downloading: \"https://download.pytorch.org/models/resnet34-333f7ec4.pth\" to /root/.cache/torch/hub/checkpoints/resnet34-333f7ec4.pth\n"
          ],
          "name": "stderr"
        },
        {
          "output_type": "display_data",
          "data": {
            "application/vnd.jupyter.widget-view+json": {
              "model_id": "db84d2f6e63f4f2cbb230240011f2a76",
              "version_minor": 0,
              "version_major": 2
            },
            "text/plain": [
              "HBox(children=(FloatProgress(value=0.0, max=87306240.0), HTML(value='')))"
            ]
          },
          "metadata": {
            "tags": []
          }
        },
        {
          "output_type": "stream",
          "text": [
            "\n",
            "The model has 21705862 trainable parameters.\n"
          ],
          "name": "stdout"
        }
      ]
    },
    {
      "cell_type": "code",
      "metadata": {
        "id": "zYgRx5ZM-VYJ"
      },
      "source": [
        "# Loss\n",
        "criterion = nn.CrossEntropyLoss() # Softmax + CrossEntropy\n",
        "\n",
        "# Put model&criterion on GPU\n",
        "device = torch.device('cuda' if torch.cuda.is_available() else 'cpu')\n",
        "criterion = criterion.to(device)\n",
        "\n",
        "# Optim\n",
        "optimizer=optim.Adam(myCNN.parameters(),lr=.5e-4, weight_decay=.8e-5)"
      ],
      "execution_count": 10,
      "outputs": []
    },
    {
      "cell_type": "code",
      "metadata": {
        "id": "PUma9S5iAGw-"
      },
      "source": [
        "def train(model, iterator, optimizer, criterion, device):\n",
        "  epoch_loss = 0\n",
        "  epoch_acc = 0\n",
        "\n",
        "  # Train mode\n",
        "  model.train()\n",
        "\n",
        "  for (x,y) in iterator:\n",
        "    x = x.to(device)\n",
        "    y = y.to(device)\n",
        "    # Set gradients to zero\n",
        "    optimizer.zero_grad()\n",
        "    \n",
        "    # Make Predictions\n",
        "    y_pred = model(x)\n",
        "\n",
        "    # Compute loss\n",
        "    loss = criterion(y_pred, y)\n",
        "    \n",
        "    # Compute accuracy\n",
        "    acc = calculate_accuracy(y_pred, y)\n",
        "\n",
        "    # Backprop\n",
        "    loss.backward()\n",
        "\n",
        "    # Apply optimizer\n",
        "    optimizer.step()\n",
        "\n",
        "    # Extract data from loss and accuracy\n",
        "    epoch_loss += loss.item()\n",
        "    epoch_acc += acc.item()\n",
        "\n",
        "  return epoch_loss/len(iterator), epoch_acc/len(iterator)\n",
        "\n",
        "def evaluate(model, iterator, criterion, device):\n",
        "  epoch_loss = 0\n",
        "  epoch_acc = 0\n",
        "\n",
        "  # Evaluation mode\n",
        "  model.eval()\n",
        "\n",
        "  # Do not compute gradients\n",
        "  with torch.no_grad():\n",
        "\n",
        "    for (x,y) in iterator:\n",
        "\n",
        "      x = x.to(device)\n",
        "      y = y.to(device)\n",
        "      \n",
        "      # Make Predictions\n",
        "      y_pred = model(x)\n",
        "\n",
        "      # Compute loss\n",
        "      loss = criterion(y_pred, y)\n",
        "      \n",
        "      # Compute accuracy\n",
        "      acc = calculate_accuracy(y_pred, y)\n",
        "\n",
        "      # Extract data from loss and accuracy\n",
        "      epoch_loss += loss.item()\n",
        "      epoch_acc += acc.item()\n",
        "\n",
        "  return epoch_loss/len(iterator), epoch_acc/len(iterator)\n",
        "\n",
        "def calculate_accuracy(y_pred, y):\n",
        "  '''\n",
        "  Compute accuracy from ground-truth and predicted labels.\n",
        "  \n",
        "  Input\n",
        "  ------\n",
        "  y_pred: torch.Tensor [BATCH_SIZE, N_LABELS]\n",
        "  y: torch.Tensor [BATCH_SIZE]\n",
        "\n",
        "  Output\n",
        "  ------\n",
        "  acc: float\n",
        "    Accuracy\n",
        "  '''\n",
        "  y_prob = F.softmax(y_pred, dim = -1)\n",
        "  y_pred = y_pred.argmax(dim=1, keepdim = True)\n",
        "  correct = y_pred.eq(y.view_as(y_pred)).sum()\n",
        "  acc = correct.float()/y.shape[0]\n",
        "  return acc\n",
        "\n",
        "def model_training(n_epochs, model, train_iterator, valid_iterator, optimizer, criterion, device, model_name='best_model.pt'):\n",
        "\n",
        "  # Initialize validation loss\n",
        "  best_valid_loss = float('inf')\n",
        "\n",
        "  # Save output losses, accs\n",
        "  train_losses = []\n",
        "  train_accs = []\n",
        "  valid_losses = []\n",
        "  valid_accs = []\n",
        "\n",
        "  # Loop over epochs\n",
        "  for epoch in range(n_epochs):\n",
        "    start_time = time.time()\n",
        "    # Train\n",
        "    train_loss, train_acc = train(model, train_iterator, optimizer, criterion, device)\n",
        "    # Validation\n",
        "    valid_loss, valid_acc = evaluate(model, valid_iterator, criterion, device)\n",
        "    # Save best model\n",
        "    if valid_loss < best_valid_loss:\n",
        "      best_valid_loss = valid_loss\n",
        "      # Save model\n",
        "      torch.save(model.state_dict(), model_name)\n",
        "    end_time = time.time()\n",
        "    \n",
        "    print(f\"\\nEpoch: {epoch+1}/{n_epochs} -- Epoch Time: {end_time-start_time:.2f} s\")\n",
        "    print(\"---------------------------------\")\n",
        "    print(f\"Train -- Loss: {train_loss:.3f}, Acc: {train_acc * 100:.2f}%\")\n",
        "    print(f\"Val -- Loss: {valid_loss:.3f}, Acc: {valid_acc * 100:.2f}%\")\n",
        "\n",
        "    # Save\n",
        "    train_losses.append(train_loss)\n",
        "    train_accs.append(train_acc)\n",
        "    valid_losses.append(valid_loss)\n",
        "    valid_accs.append(valid_acc)\n",
        "\n",
        "  return train_losses, train_accs, valid_losses, valid_accs"
      ],
      "execution_count": 11,
      "outputs": []
    },
    {
      "cell_type": "code",
      "metadata": {
        "colab": {
          "base_uri": "https://localhost:8080/"
        },
        "id": "1WI9x2ygVB9r",
        "outputId": "35f7c442-b860-4d72-f8e7-6a0dffabf656"
      },
      "source": [
        "torch.cuda.is_available()"
      ],
      "execution_count": 12,
      "outputs": [
        {
          "output_type": "execute_result",
          "data": {
            "text/plain": [
              "True"
            ]
          },
          "metadata": {
            "tags": []
          },
          "execution_count": 12
        }
      ]
    },
    {
      "cell_type": "code",
      "metadata": {
        "colab": {
          "base_uri": "https://localhost:8080/"
        },
        "id": "lm7yfgAxAZNv",
        "outputId": "d04e9dd9-15e7-4002-f193-a8bb4d7d08ef"
      },
      "source": [
        "N_EPOCHS = 12\n",
        "train_losses, train_accs, valid_losses, valid_accs = model_training(N_EPOCHS, \n",
        "                                                                    myCNN.model.to(device), \n",
        "                                                                    train_iterator, \n",
        "                                                                    valid_iterator, \n",
        "                                                                    optimizer, \n",
        "                                                                    criterion, \n",
        "                                                                    device,\n",
        "                                                                    'mlp.pt')"
      ],
      "execution_count": null,
      "outputs": [
        {
          "output_type": "stream",
          "text": [
            "\n",
            "Epoch: 1/12 -- Epoch Time: 1186.11 s\n",
            "---------------------------------\n",
            "Train -- Loss: 0.581, Acc: 82.81%\n",
            "Val -- Loss: 0.202, Acc: 94.88%\n",
            "\n",
            "Epoch: 2/12 -- Epoch Time: 1190.16 s\n",
            "---------------------------------\n",
            "Train -- Loss: 0.167, Acc: 94.97%\n",
            "Val -- Loss: 0.122, Acc: 96.75%\n",
            "\n",
            "Epoch: 3/12 -- Epoch Time: 1191.32 s\n",
            "---------------------------------\n",
            "Train -- Loss: 0.111, Acc: 96.65%\n",
            "Val -- Loss: 0.088, Acc: 97.58%\n",
            "\n",
            "Epoch: 4/12 -- Epoch Time: 1192.39 s\n",
            "---------------------------------\n",
            "Train -- Loss: 0.081, Acc: 97.50%\n",
            "Val -- Loss: 0.065, Acc: 98.03%\n",
            "\n",
            "Epoch: 5/12 -- Epoch Time: 1192.16 s\n",
            "---------------------------------\n",
            "Train -- Loss: 0.065, Acc: 98.01%\n",
            "Val -- Loss: 0.048, Acc: 98.80%\n",
            "\n",
            "Epoch: 6/12 -- Epoch Time: 1192.51 s\n",
            "---------------------------------\n",
            "Train -- Loss: 0.051, Acc: 98.48%\n",
            "Val -- Loss: 0.066, Acc: 97.93%\n",
            "\n",
            "Epoch: 7/12 -- Epoch Time: 1191.59 s\n",
            "---------------------------------\n",
            "Train -- Loss: 0.043, Acc: 98.71%\n",
            "Val -- Loss: 0.035, Acc: 99.02%\n",
            "\n",
            "Epoch: 8/12 -- Epoch Time: 1192.77 s\n",
            "---------------------------------\n",
            "Train -- Loss: 0.038, Acc: 98.82%\n",
            "Val -- Loss: 0.039, Acc: 98.67%\n",
            "\n",
            "Epoch: 9/12 -- Epoch Time: 1191.16 s\n",
            "---------------------------------\n",
            "Train -- Loss: 0.033, Acc: 98.94%\n",
            "Val -- Loss: 0.032, Acc: 99.03%\n",
            "\n",
            "Epoch: 10/12 -- Epoch Time: 1195.89 s\n",
            "---------------------------------\n",
            "Train -- Loss: 0.029, Acc: 99.16%\n",
            "Val -- Loss: 0.042, Acc: 98.69%\n",
            "\n",
            "Epoch: 11/12 -- Epoch Time: 1195.45 s\n",
            "---------------------------------\n",
            "Train -- Loss: 0.029, Acc: 99.12%\n",
            "Val -- Loss: 0.036, Acc: 98.78%\n"
          ],
          "name": "stdout"
        }
      ]
    },
    {
      "cell_type": "code",
      "metadata": {
        "id": "mL42k6APoIX4"
      },
      "source": [
        "def plot_results(n_epochs, train_losses, train_accs, valid_losses, valid_accs):\n",
        "  N_EPOCHS = n_epochs\n",
        "  # Plot results\n",
        "  plt.figure(figsize=(20, 6))\n",
        "  _ = plt.subplot(1,2,1)\n",
        "  plt.plot(np.arange(N_EPOCHS)+1, train_losses, linewidth=3)\n",
        "  plt.plot(np.arange(N_EPOCHS)+1, valid_losses, linewidth=3)\n",
        "  _ = plt.legend(['Train', 'Validation'])\n",
        "  plt.grid('on'), plt.xlabel('Epoch'), plt.ylabel('Loss')\n",
        "\n",
        "  _ = plt.subplot(1,2,2)\n",
        "  plt.plot(np.arange(N_EPOCHS)+1, train_accs, linewidth=3)\n",
        "  plt.plot(np.arange(N_EPOCHS)+1, valid_accs, linewidth=3)\n",
        "  _ = plt.legend(['Train', 'Validation'])\n",
        "  plt.grid('on'), plt.xlabel('Epoch'), plt.ylabel('Accuracy')"
      ],
      "execution_count": null,
      "outputs": []
    },
    {
      "cell_type": "code",
      "metadata": {
        "id": "HVPcpHQ2FOFj"
      },
      "source": [
        "plot_results(N_EPOCHS,train_losses,train_accs,valid_losses,valid_accs)"
      ],
      "execution_count": null,
      "outputs": []
    },
    {
      "cell_type": "code",
      "metadata": {
        "id": "3rR_hFhx8-4d"
      },
      "source": [
        "def model_testing(model, test_iterator, criterion, device, model_name='mlp.pt'):\n",
        "  # Test model\n",
        "  model.load_state_dict(torch.load(model_name))\n",
        "  test_loss, test_acc = evaluate(model, test_iterator, criterion, device)\n",
        "  print(f\"Test -- Loss: {test_loss:.3f}, Acc: {test_acc * 100:.2f} %\")"
      ],
      "execution_count": null,
      "outputs": []
    },
    {
      "cell_type": "code",
      "metadata": {
        "id": "WQuiV0qygI6-"
      },
      "source": [
        "model_testing(myCNN.model.to(device),test_iterator,criterion,device)"
      ],
      "execution_count": null,
      "outputs": []
    },
    {
      "cell_type": "code",
      "metadata": {
        "id": "6YfXMKUQ9tXY"
      },
      "source": [
        "def predict(model, iterator, device):\n",
        "  \n",
        "  # Evaluation mode\n",
        "  model.eval()\n",
        "  \n",
        "  labels = []\n",
        "  pred = []\n",
        "\n",
        "  with torch.no_grad():\n",
        "    for (x, y) in iterator:\n",
        "      x = x.to(device)\n",
        "      y_pred = model(x)\n",
        "\n",
        "      # Get label with highest score\n",
        "      y_prob = F.softmax(y_pred, dim = -1)\n",
        "      top_pred = y_prob.argmax(1, keepdim=True)\n",
        "\n",
        "      labels.append(y.cpu())\n",
        "      pred.append(top_pred.cpu())\n",
        "\n",
        "  labels = torch.cat(labels, dim=0)\n",
        "  pred = torch.cat(pred, dim=0)\n",
        "  \n",
        "  return labels, pred\n",
        "\n",
        "def print_report(model, test_iterator, device):\n",
        "  labels, pred = predict(model, test_iterator, device)\n",
        "  print(confusion_matrix(labels, pred))\n",
        "  print(\"\\n\")\n",
        "  print(classification_report(labels, pred))"
      ],
      "execution_count": null,
      "outputs": []
    },
    {
      "cell_type": "code",
      "metadata": {
        "id": "meOmnL74gMe2"
      },
      "source": [
        "print_report(myCNN.model.to(device),test_iterator,device)"
      ],
      "execution_count": null,
      "outputs": []
    },
    {
      "cell_type": "code",
      "metadata": {
        "id": "Yn9QNND-gVfu"
      },
      "source": [
        ""
      ],
      "execution_count": null,
      "outputs": []
    }
  ]
}