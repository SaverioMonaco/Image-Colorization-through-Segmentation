{
 "cells": [
  {
   "cell_type": "markdown",
   "id": "5cb6de65-d912-46cd-9abc-5b5ff2f959a3",
   "metadata": {},
   "source": [
    "# Image Colorization\n",
    "\n",
    "## Project of Vision And Cognitive Services\n",
    "\n",
    "#### [Saverio Monaco](https://github.com/SaverioMonaco/)\n",
    "#### [Filippo Zillotto](https://github.com/ZiliottoFilippoDev)"
   ]
  },
  {
   "cell_type": "code",
   "execution_count": 1,
   "id": "e01f8e35-7604-4984-952e-3389efb337f6",
   "metadata": {},
   "outputs": [],
   "source": [
    "import os"
   ]
  },
  {
   "cell_type": "code",
   "execution_count": 2,
   "id": "3025c734-ecdd-4297-a181-e223c6aadafe",
   "metadata": {},
   "outputs": [
    {
     "name": "stdout",
     "output_type": "stream",
     "text": [
      "mkdir: cannot create directory ‘datasets’: File exists\n",
      "--2021-06-08 17:31:09--  https://s3.amazonaws.com/fast-ai-imageclas/imagenette2.tgz\n",
      "Resolving s3.amazonaws.com (s3.amazonaws.com)... 52.217.202.64\n",
      "Connecting to s3.amazonaws.com (s3.amazonaws.com)|52.217.202.64|:443... connected.\n",
      "HTTP request sent, awaiting response... 200 OK\n",
      "Length: 1557161267 (1,5G) [application/x-tar]\n",
      "Saving to: ‘STDOUT’\n",
      "\n",
      "-                   100%[===================>]   1,45G  9,65MB/s    in 4m 35s  \n",
      "\n",
      "2021-06-08 17:35:45 (5,40 MB/s) - written to stdout [1557161267/1557161267]\n",
      "\n"
     ]
    }
   ],
   "source": [
    "!mkdir datasets\n",
    "!wget -c https://s3.amazonaws.com/fast-ai-imageclas/imagenette2.tgz -O - | tar -xz -C ./datasets"
   ]
  },
  {
   "cell_type": "markdown",
   "id": "f04bdc5a-9787-4fe5-81bd-22ab22c3de78",
   "metadata": {
    "tags": []
   },
   "source": [
    "#### References:\n",
    "* https://richzhang.github.io/colorization/\n",
    "* https://arxiv.org/abs/1603.08511\n",
    "* https://arxiv.org/abs/1908.01311"
   ]
  }
 ],
 "metadata": {
  "kernelspec": {
   "display_name": "Python 3",
   "language": "python",
   "name": "python3"
  },
  "language_info": {
   "codemirror_mode": {
    "name": "ipython",
    "version": 3
   },
   "file_extension": ".py",
   "mimetype": "text/x-python",
   "name": "python",
   "nbconvert_exporter": "python",
   "pygments_lexer": "ipython3",
   "version": "3.8.8"
  }
 },
 "nbformat": 4,
 "nbformat_minor": 5
}
